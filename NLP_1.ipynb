{
  "nbformat": 4,
  "nbformat_minor": 0,
  "metadata": {
    "accelerator": "GPU",
    "colab": {
      "name": "NLP_1.ipynb",
      "provenance": [],
      "collapsed_sections": [],
      "toc_visible": true,
      "include_colab_link": true
    },
    "kernelspec": {
      "display_name": "Python 3",
      "language": "python",
      "name": "python3"
    },
    "language_info": {
      "codemirror_mode": {
        "name": "ipython",
        "version": 3
      },
      "file_extension": ".py",
      "mimetype": "text/x-python",
      "name": "python",
      "nbconvert_exporter": "python",
      "pygments_lexer": "ipython3",
      "version": "3.7.6"
    }
  },
  "cells": [
    {
      "cell_type": "markdown",
      "metadata": {
        "id": "view-in-github",
        "colab_type": "text"
      },
      "source": [
        "<a href=\"https://colab.research.google.com/github/MinooSdpr/Complex-And-Fractional-Number/blob/master/NLP_1.ipynb\" target=\"_parent\"><img src=\"https://colab.research.google.com/assets/colab-badge.svg\" alt=\"Open In Colab\"/></a>"
      ]
    },
    {
      "cell_type": "markdown",
      "metadata": {
        "colab_type": "text",
        "id": "sTszNUZBtMfS"
      },
      "source": [
        "# Setup"
      ]
    },
    {
      "cell_type": "markdown",
      "metadata": {
        "colab_type": "text",
        "id": "uDN1TG46HOAu"
      },
      "source": [
        "## Make a copy\n",
        "\n",
        "**Follow the following steps to make your own copy. You will lose your changes if you don't make your own copy!**\n",
        "\n",
        "From the tooltip above, you should see \n",
        "\n",
        "File | Edit | View | Insert | Runtime | Tools | Help\n",
        "\n",
        "1. Click on **File**\n",
        "2. Click on **Save a copy in Drive**"
      ]
    },
    {
      "cell_type": "markdown",
      "metadata": {
        "colab_type": "text",
        "id": "5g9LeA0xQx1M"
      },
      "source": [
        "## Import"
      ]
    },
    {
      "cell_type": "markdown",
      "metadata": {
        "colab_type": "text",
        "id": "CFXF94XNQzR1"
      },
      "source": [
        "Let's import the required packages and setup some settings that will help us in this notebook."
      ]
    },
    {
      "cell_type": "code",
      "metadata": {
        "colab_type": "code",
        "id": "KMFBdTxptTYE",
        "colab": {}
      },
      "source": [
        "# import the required packages\n",
        "from fastai.text import *\n",
        "from fastai.metrics import error_rate\n",
        "from google.colab import files\n",
        "import numpy as np\n",
        "import pandas as pd"
      ],
      "execution_count": null,
      "outputs": []
    },
    {
      "cell_type": "markdown",
      "metadata": {
        "colab_type": "text",
        "id": "tUvrK710tPOt"
      },
      "source": [
        "# Data"
      ]
    },
    {
      "cell_type": "markdown",
      "metadata": {
        "id": "qlxlGS_A-KLr",
        "colab_type": "text"
      },
      "source": [
        "Probably you know IMDb, an online database of Movies information, ratings and reviews. There are tons of comments on this site about every single movie.  This means we have lots of opinions, which means there are lots of works to make everything organaized.\n",
        "Imagine that we can find out if a review is a positive or negetive one.\n",
        "For this concept we need to build an NLP system. \n",
        " \n"
      ]
    },
    {
      "cell_type": "markdown",
      "metadata": {
        "id": "GxkFsi-tHjvh",
        "colab_type": "text"
      },
      "source": [
        "Today we are going to train a Natural Language Processing Model to classify IMDb reviews."
      ]
    },
    {
      "cell_type": "markdown",
      "metadata": {
        "colab_type": "text",
        "id": "bF9_SrvyDD0j"
      },
      "source": [
        "\n",
        "> At the end of this session you will be able to write a text and the model will be able to find out does your text have a good feeling or the bad one.\n"
      ]
    },
    {
      "cell_type": "markdown",
      "metadata": {
        "colab_type": "text",
        "id": "rQ_8gtxtw209"
      },
      "source": [
        "## Looking at data"
      ]
    },
    {
      "cell_type": "markdown",
      "metadata": {
        "colab_type": "text",
        "id": "t-PG4Uy8El3j"
      },
      "source": [
        "First things first. Let's download our dataset and put it to `data` variable.\n",
        "  "
      ]
    },
    {
      "cell_type": "code",
      "metadata": {
        "colab_type": "code",
        "id": "oaWNmL55tQE8",
        "scrolled": false,
        "colab": {
          "base_uri": "https://localhost:8080/",
          "height": 34
        },
        "outputId": "afa677c6-faf3-4fca-d0d1-9c04511cf2c2"
      },
      "source": [
        "# Download IMDB dataset\n",
        "path = untar_data(URLs.IMDB_SAMPLE)\n",
        "data = pd.read_csv(path/'texts.csv')"
      ],
      "execution_count": null,
      "outputs": [
        {
          "output_type": "stream",
          "text": [
            "Downloading http://files.fast.ai/data/examples/imdb_sample.tgz\n"
          ],
          "name": "stdout"
        },
        {
          "output_type": "display_data",
          "data": {
            "text/html": [
              ""
            ],
            "text/plain": [
              "<IPython.core.display.HTML object>"
            ]
          },
          "metadata": {
            "tags": []
          }
        }
      ]
    },
    {
      "cell_type": "markdown",
      "metadata": {
        "id": "s1hJufH_Jh2f",
        "colab_type": "text"
      },
      "source": [
        "Here is a sample of our dataset:"
      ]
    },
    {
      "cell_type": "code",
      "metadata": {
        "id": "w-28r8POJuMs",
        "colab_type": "code",
        "colab": {
          "base_uri": "https://localhost:8080/",
          "height": 195
        },
        "outputId": "32378733-e508-45b2-f2e4-495d73bb4c9d"
      },
      "source": [
        "data.head()"
      ],
      "execution_count": null,
      "outputs": [
        {
          "output_type": "execute_result",
          "data": {
            "text/html": [
              "<div>\n",
              "<style scoped>\n",
              "    .dataframe tbody tr th:only-of-type {\n",
              "        vertical-align: middle;\n",
              "    }\n",
              "\n",
              "    .dataframe tbody tr th {\n",
              "        vertical-align: top;\n",
              "    }\n",
              "\n",
              "    .dataframe thead th {\n",
              "        text-align: right;\n",
              "    }\n",
              "</style>\n",
              "<table border=\"1\" class=\"dataframe\">\n",
              "  <thead>\n",
              "    <tr style=\"text-align: right;\">\n",
              "      <th></th>\n",
              "      <th>label</th>\n",
              "      <th>text</th>\n",
              "      <th>is_valid</th>\n",
              "    </tr>\n",
              "  </thead>\n",
              "  <tbody>\n",
              "    <tr>\n",
              "      <th>0</th>\n",
              "      <td>negative</td>\n",
              "      <td>Un-bleeping-believable! Meg Ryan doesn't even ...</td>\n",
              "      <td>False</td>\n",
              "    </tr>\n",
              "    <tr>\n",
              "      <th>1</th>\n",
              "      <td>positive</td>\n",
              "      <td>This is a extremely well-made film. The acting...</td>\n",
              "      <td>False</td>\n",
              "    </tr>\n",
              "    <tr>\n",
              "      <th>2</th>\n",
              "      <td>negative</td>\n",
              "      <td>Every once in a long while a movie will come a...</td>\n",
              "      <td>False</td>\n",
              "    </tr>\n",
              "    <tr>\n",
              "      <th>3</th>\n",
              "      <td>positive</td>\n",
              "      <td>Name just says it all. I watched this movie wi...</td>\n",
              "      <td>False</td>\n",
              "    </tr>\n",
              "    <tr>\n",
              "      <th>4</th>\n",
              "      <td>negative</td>\n",
              "      <td>This movie succeeds at being one of the most u...</td>\n",
              "      <td>False</td>\n",
              "    </tr>\n",
              "  </tbody>\n",
              "</table>\n",
              "</div>"
            ],
            "text/plain": [
              "      label                                               text  is_valid\n",
              "0  negative  Un-bleeping-believable! Meg Ryan doesn't even ...     False\n",
              "1  positive  This is a extremely well-made film. The acting...     False\n",
              "2  negative  Every once in a long while a movie will come a...     False\n",
              "3  positive  Name just says it all. I watched this movie wi...     False\n",
              "4  negative  This movie succeeds at being one of the most u...     False"
            ]
          },
          "metadata": {
            "tags": []
          },
          "execution_count": 4
        }
      ]
    },
    {
      "cell_type": "markdown",
      "metadata": {
        "id": "fWGg05_EJ5PL",
        "colab_type": "text"
      },
      "source": [
        "And this is one of those reviews:"
      ]
    },
    {
      "cell_type": "code",
      "metadata": {
        "colab_type": "code",
        "id": "P4bNn7WvxB5K",
        "scrolled": true,
        "colab": {
          "base_uri": "https://localhost:8080/",
          "height": 137
        },
        "outputId": "4dc0185e-d26a-408c-9908-0d8dafd8f9ed"
      },
      "source": [
        "data['text'][1]"
      ],
      "execution_count": null,
      "outputs": [
        {
          "output_type": "execute_result",
          "data": {
            "application/vnd.google.colaboratory.intrinsic+json": {
              "type": "string"
            },
            "text/plain": [
              "'This is a extremely well-made film. The acting, script and camera-work are all first-rate. The music is good, too, though it is mostly early in the film, when things are still relatively cheery. There are no really superstars in the cast, though several faces will be familiar. The entire cast does an excellent job with the script.<br /><br />But it is hard to watch, because there is no good end to a situation like the one presented. It is now fashionable to blame the British for setting Hindus and Muslims against each other, and then cruelly separating them into two countries. There is some merit in this view, but it\\'s also true that no one forced Hindus and Muslims in the region to mistreat each other as they did around the time of partition. It seems more likely that the British simply saw the tensions between the religions and were clever enough to exploit them to their own ends.<br /><br />The result is that there is much cruelty and inhumanity in the situation and this is very unpleasant to remember and to see on the screen. But it is never painted as a black-and-white case. There is baseness and nobility on both sides, and also the hope for change in the younger generation.<br /><br />There is redemption of a sort, in the end, when Puro has to make a hard choice between a man who has ruined her life, but also truly loved her, and her family which has disowned her, then later come looking for her. But by that point, she has no option that is without great pain for her.<br /><br />This film carries the message that both Muslims and Hindus have their grave faults, and also that both can be dignified and caring people. The reality of partition makes that realisation all the more wrenching, since there can never be real reconciliation across the India/Pakistan border. In that sense, it is similar to \"Mr & Mrs Iyer\".<br /><br />In the end, we were glad to have seen the film, even though the resolution was heartbreaking. If the UK and US could deal with their own histories of racism with this kind of frankness, they would certainly be better off.'"
            ]
          },
          "metadata": {
            "tags": []
          },
          "execution_count": 5
        }
      ]
    },
    {
      "cell_type": "markdown",
      "metadata": {
        "id": "YtVIE6MCKJaG",
        "colab_type": "text"
      },
      "source": [
        "We can use `describe()` method to wrap-up our data and gain statistical information about each column of our dataset."
      ]
    },
    {
      "cell_type": "code",
      "metadata": {
        "colab_type": "code",
        "id": "DfDrs03BxmIA",
        "scrolled": false,
        "colab": {
          "base_uri": "https://localhost:8080/",
          "height": 166
        },
        "outputId": "2ba79b2f-1bfd-4f8a-9b1c-8f800fbe9842"
      },
      "source": [
        "data.groupby('label').describe()"
      ],
      "execution_count": null,
      "outputs": [
        {
          "output_type": "execute_result",
          "data": {
            "text/html": [
              "<div>\n",
              "<style scoped>\n",
              "    .dataframe tbody tr th:only-of-type {\n",
              "        vertical-align: middle;\n",
              "    }\n",
              "\n",
              "    .dataframe tbody tr th {\n",
              "        vertical-align: top;\n",
              "    }\n",
              "\n",
              "    .dataframe thead tr th {\n",
              "        text-align: left;\n",
              "    }\n",
              "\n",
              "    .dataframe thead tr:last-of-type th {\n",
              "        text-align: right;\n",
              "    }\n",
              "</style>\n",
              "<table border=\"1\" class=\"dataframe\">\n",
              "  <thead>\n",
              "    <tr>\n",
              "      <th></th>\n",
              "      <th colspan=\"4\" halign=\"left\">text</th>\n",
              "      <th colspan=\"4\" halign=\"left\">is_valid</th>\n",
              "    </tr>\n",
              "    <tr>\n",
              "      <th></th>\n",
              "      <th>count</th>\n",
              "      <th>unique</th>\n",
              "      <th>top</th>\n",
              "      <th>freq</th>\n",
              "      <th>count</th>\n",
              "      <th>unique</th>\n",
              "      <th>top</th>\n",
              "      <th>freq</th>\n",
              "    </tr>\n",
              "    <tr>\n",
              "      <th>label</th>\n",
              "      <th></th>\n",
              "      <th></th>\n",
              "      <th></th>\n",
              "      <th></th>\n",
              "      <th></th>\n",
              "      <th></th>\n",
              "      <th></th>\n",
              "      <th></th>\n",
              "    </tr>\n",
              "  </thead>\n",
              "  <tbody>\n",
              "    <tr>\n",
              "      <th>negative</th>\n",
              "      <td>524</td>\n",
              "      <td>524</td>\n",
              "      <td>Awesomely improbable and foolish potboiler tha...</td>\n",
              "      <td>1</td>\n",
              "      <td>524</td>\n",
              "      <td>2</td>\n",
              "      <td>False</td>\n",
              "      <td>417</td>\n",
              "    </tr>\n",
              "    <tr>\n",
              "      <th>positive</th>\n",
              "      <td>476</td>\n",
              "      <td>476</td>\n",
              "      <td>Don't look for an overdeveloped plotline here....</td>\n",
              "      <td>1</td>\n",
              "      <td>476</td>\n",
              "      <td>2</td>\n",
              "      <td>False</td>\n",
              "      <td>383</td>\n",
              "    </tr>\n",
              "  </tbody>\n",
              "</table>\n",
              "</div>"
            ],
            "text/plain": [
              "          text         ... is_valid     \n",
              "         count unique  ...      top freq\n",
              "label                  ...              \n",
              "negative   524    524  ...    False  417\n",
              "positive   476    476  ...    False  383\n",
              "\n",
              "[2 rows x 8 columns]"
            ]
          },
          "metadata": {
            "tags": []
          },
          "execution_count": 6
        }
      ]
    },
    {
      "cell_type": "markdown",
      "metadata": {
        "id": "69tVQ_lOLpbC",
        "colab_type": "text"
      },
      "source": [
        "\n",
        "\n",
        "---\n",
        "##Tokenizing and making data ready\n",
        "\n"
      ]
    },
    {
      "cell_type": "code",
      "metadata": {
        "id": "3JR0FFz8W0Xl",
        "colab_type": "code",
        "colab": {
          "base_uri": "https://localhost:8080/",
          "height": 17
        },
        "outputId": "91ed8758-adb4-4dfc-a253-de3b66de7509"
      },
      "source": [
        "data_lm = TextLMDataBunch.from_csv(path,'texts.csv')"
      ],
      "execution_count": null,
      "outputs": [
        {
          "output_type": "display_data",
          "data": {
            "text/html": [
              ""
            ],
            "text/plain": [
              "<IPython.core.display.HTML object>"
            ]
          },
          "metadata": {
            "tags": []
          }
        },
        {
          "output_type": "display_data",
          "data": {
            "text/html": [
              ""
            ],
            "text/plain": [
              "<IPython.core.display.HTML object>"
            ]
          },
          "metadata": {
            "tags": []
          }
        }
      ]
    },
    {
      "cell_type": "markdown",
      "metadata": {
        "id": "xkj8ctu9UW4W",
        "colab_type": "text"
      },
      "source": [
        "This process could be heavy "
      ]
    },
    {
      "cell_type": "code",
      "metadata": {
        "id": "WXOokR5wa_K_",
        "colab_type": "code",
        "colab": {}
      },
      "source": [
        "data_lm.save('data_lm_export.pkl')"
      ],
      "execution_count": null,
      "outputs": []
    },
    {
      "cell_type": "code",
      "metadata": {
        "id": "y1ZwLADUdkMn",
        "colab_type": "code",
        "colab": {}
      },
      "source": [
        "data_lm = load_data(path, 'data_lm_export.pkl')"
      ],
      "execution_count": null,
      "outputs": []
    },
    {
      "cell_type": "code",
      "metadata": {
        "id": "G8EYWk5MUqH0",
        "colab_type": "code",
        "colab": {
          "base_uri": "https://localhost:8080/",
          "height": 397
        },
        "outputId": "b6fa8de3-5a75-4258-9fee-22c82c9597cc"
      },
      "source": [
        "data_lm.show_batch()"
      ],
      "execution_count": null,
      "outputs": [
        {
          "output_type": "stream",
          "text": [
            "/usr/local/lib/python3.6/dist-packages/fastai/text/data.py:339: UserWarning: This overload of nonzero is deprecated:\n",
            "\tnonzero()\n",
            "Consider using one of the following signatures instead:\n",
            "\tnonzero(*, bool as_tuple) (Triggered internally at  /pytorch/torch/csrc/utils/python_arg_parser.cpp:766.)\n",
            "  idx_min = (t != self.pad_idx).nonzero().min()\n"
          ],
          "name": "stderr"
        },
        {
          "output_type": "display_data",
          "data": {
            "text/html": [
              "<table border=\"1\" class=\"dataframe\">\n",
              "  <thead>\n",
              "    <tr style=\"text-align: right;\">\n",
              "      <th>idx</th>\n",
              "      <th>text</th>\n",
              "    </tr>\n",
              "  </thead>\n",
              "  <tbody>\n",
              "    <tr>\n",
              "      <td>0</td>\n",
              "      <td>xxup the xxup shining . i did n't like that , either . xxmaj what the movie 's press release xxup should have said is ... xxunk got the basic , very basic , idea from xxmaj shirley xxmaj jackson 's book , we kept the same names of the house and several ( though not all ) of the leading character 's names , but then we decided to</td>\n",
              "    </tr>\n",
              "    <tr>\n",
              "      <td>1</td>\n",
              "      <td>water to the second floor of the xxmaj villains xxmaj xxunk and through the balcony and pulls the bad guy off xxmaj kate and instead of crashing straight down through the building ( and xxunk xxmaj kate ) the xxmaj croc just xxunk backwards at the same angle into the water . xxmaj no laws of xxmaj physics can apply to this movie or the special effects . xxmaj at</td>\n",
              "    </tr>\n",
              "    <tr>\n",
              "      <td>2</td>\n",
              "      <td>rude snarling people in their xxmaj xxunk xxmaj xxunk , miles of xxunk on congested xxunk , gangs , racial xxunk on the verge of violent xxunk , and everyone skeptical of each others intentions . \\n \\n  xxmaj anyway the movie is very inspiring with brilliant acting and a deep story about the fragile connections of loved ones . xxmaj there is a lot of deep thinking in</td>\n",
              "    </tr>\n",
              "    <tr>\n",
              "      <td>3</td>\n",
              "      <td>films for a few years now ( and xxunk and can speak some xxmaj xxunk ) , i 'm sure my opinion is different from many others as i 'm coming from a different background . xxup smmf , like xxmaj hero , is not really a traditional a kung fu film , and it 's certainly not a xxunk xxunk film . xxmaj there are no sword &amp; sorcery</td>\n",
              "    </tr>\n",
              "    <tr>\n",
              "      <td>4</td>\n",
              "      <td>from the other side of the city . \\n \\n  \" xxmaj when xxmaj it 's xxmaj cold i 'd xxmaj like xxmaj to xxmaj die \" by xxmaj xxunk marries perfectly with these last images and helps in creating an emotional roller - coaster of an episode . \\n \\n  10 out of 10 . \\n \\n  xxup p.s. : xxmaj watch the next episode .</td>\n",
              "    </tr>\n",
              "  </tbody>\n",
              "</table>"
            ],
            "text/plain": [
              "<IPython.core.display.HTML object>"
            ]
          },
          "metadata": {
            "tags": []
          }
        }
      ]
    },
    {
      "cell_type": "markdown",
      "metadata": {
        "colab_type": "text",
        "id": "LghaC_ybwwUc"
      },
      "source": [
        "# Language Model"
      ]
    },
    {
      "cell_type": "markdown",
      "metadata": {
        "colab_type": "text",
        "id": "-wp5iT3NVmLg"
      },
      "source": [
        "So far so good, we have setup our system and the data is loaded and ready. Now we can define a Language Model.\n",
        "\n",
        "`language_model_learner` works with our *tokenized* data and a pretrained model that is good at English Lecture to connect the dots of our problem.\n",
        "\n",
        "⭐ `language_model_learner` creates a **RNN** model . Have you ever heard about **RNN**?"
      ]
    },
    {
      "cell_type": "code",
      "metadata": {
        "id": "_1OC99queRBf",
        "colab_type": "code",
        "colab": {}
      },
      "source": [
        "learn = language_model_learner(data_lm, AWD_LSTM, drop_mult=0.5)"
      ],
      "execution_count": null,
      "outputs": []
    },
    {
      "cell_type": "code",
      "metadata": {
        "id": "85dGss1W4Jt_",
        "colab_type": "code",
        "colab": {
          "base_uri": "https://localhost:8080/",
          "height": 402
        },
        "outputId": "948bb5ee-1fbe-4b26-98f5-cfcb8bf053a4"
      },
      "source": [
        "learn.lr_find()\n",
        "learn.recorder.plot(skip_end=15)"
      ],
      "execution_count": null,
      "outputs": [
        {
          "output_type": "display_data",
          "data": {
            "text/html": [
              "\n",
              "    <div>\n",
              "        <style>\n",
              "            /* Turns off some styling */\n",
              "            progress {\n",
              "                /* gets rid of default border in Firefox and Opera. */\n",
              "                border: none;\n",
              "                /* Needs to be in here for Safari polyfill so background images work as expected. */\n",
              "                background-size: auto;\n",
              "            }\n",
              "            .progress-bar-interrupted, .progress-bar-interrupted::-webkit-progress-bar {\n",
              "                background: #F44336;\n",
              "            }\n",
              "        </style>\n",
              "      <progress value='1' class='' max='2' style='width:300px; height:20px; vertical-align: middle;'></progress>\n",
              "      50.00% [1/2 00:09<00:09]\n",
              "    </div>\n",
              "    \n",
              "<table border=\"1\" class=\"dataframe\">\n",
              "  <thead>\n",
              "    <tr style=\"text-align: left;\">\n",
              "      <th>epoch</th>\n",
              "      <th>train_loss</th>\n",
              "      <th>valid_loss</th>\n",
              "      <th>accuracy</th>\n",
              "      <th>time</th>\n",
              "    </tr>\n",
              "  </thead>\n",
              "  <tbody>\n",
              "    <tr>\n",
              "      <td>0</td>\n",
              "      <td>4.476765</td>\n",
              "      <td>#na#</td>\n",
              "      <td>00:09</td>\n",
              "    </tr>\n",
              "  </tbody>\n",
              "</table><p>\n",
              "\n",
              "    <div>\n",
              "        <style>\n",
              "            /* Turns off some styling */\n",
              "            progress {\n",
              "                /* gets rid of default border in Firefox and Opera. */\n",
              "                border: none;\n",
              "                /* Needs to be in here for Safari polyfill so background images work as expected. */\n",
              "                background-size: auto;\n",
              "            }\n",
              "            .progress-bar-interrupted, .progress-bar-interrupted::-webkit-progress-bar {\n",
              "                background: #F44336;\n",
              "            }\n",
              "        </style>\n",
              "      <progress value='42' class='' max='57' style='width:300px; height:20px; vertical-align: middle;'></progress>\n",
              "      73.68% [42/57 00:07<00:02 11.4308]\n",
              "    </div>\n",
              "    "
            ],
            "text/plain": [
              "<IPython.core.display.HTML object>"
            ]
          },
          "metadata": {
            "tags": []
          }
        },
        {
          "output_type": "stream",
          "text": [
            "LR Finder is complete, type {learner_name}.recorder.plot() to see the graph.\n"
          ],
          "name": "stdout"
        },
        {
          "output_type": "display_data",
          "data": {
            "image/png": "[encoded data removed]",
            "text/plain": [
              "<Figure size 432x288 with 1 Axes>"
            ]
          },
          "metadata": {
            "tags": [],
            "needs_background": "light"
          }
        }
      ]
    },
    {
      "cell_type": "code",
      "metadata": {
        "id": "boWvCzcpV726",
        "colab_type": "code",
        "colab": {
          "base_uri": "https://localhost:8080/",
          "height": 77
        },
        "outputId": "5018846d-2fb8-4c23-d1b3-8e8aab54fb1b"
      },
      "source": [
        "learn.fit_one_cycle(1, 1e-02)"
      ],
      "execution_count": null,
      "outputs": [
        {
          "output_type": "display_data",
          "data": {
            "text/html": [
              "<table border=\"1\" class=\"dataframe\">\n",
              "  <thead>\n",
              "    <tr style=\"text-align: left;\">\n",
              "      <th>epoch</th>\n",
              "      <th>train_loss</th>\n",
              "      <th>valid_loss</th>\n",
              "      <th>accuracy</th>\n",
              "      <th>time</th>\n",
              "    </tr>\n",
              "  </thead>\n",
              "  <tbody>\n",
              "    <tr>\n",
              "      <td>0</td>\n",
              "      <td>4.267161</td>\n",
              "      <td>4.375464</td>\n",
              "      <td>0.254807</td>\n",
              "      <td>00:10</td>\n",
              "    </tr>\n",
              "  </tbody>\n",
              "</table>"
            ],
            "text/plain": [
              "<IPython.core.display.HTML object>"
            ]
          },
          "metadata": {
            "tags": []
          }
        }
      ]
    },
    {
      "cell_type": "markdown",
      "metadata": {
        "colab_type": "text",
        "id": "ekXjpr4V883a"
      },
      "source": [
        "## Training"
      ]
    },
    {
      "cell_type": "code",
      "metadata": {
        "id": "6nipV0LKe4pn",
        "colab_type": "code",
        "colab": {}
      },
      "source": [
        "learn.save_encoder('ft_enc')"
      ],
      "execution_count": null,
      "outputs": []
    },
    {
      "cell_type": "markdown",
      "metadata": {
        "colab_type": "text",
        "id": "UAOH_jTUVmLi"
      },
      "source": [
        "### Building a classifier"
      ]
    },
    {
      "cell_type": "code",
      "metadata": {
        "id": "ivIX_QkdRuQ5",
        "colab_type": "code",
        "colab": {
          "base_uri": "https://localhost:8080/",
          "height": 17
        },
        "outputId": "aece5610-6c83-4f6e-d4d5-026d5c911c53"
      },
      "source": [
        "data_clas = TextClasDataBunch.from_csv(path, 'texts.csv', vocab=data_lm.train_ds.vocab, bs=32)\n",
        "data_clas.save('data_clas_export.pkl')"
      ],
      "execution_count": null,
      "outputs": [
        {
          "output_type": "display_data",
          "data": {
            "text/html": [
              ""
            ],
            "text/plain": [
              "<IPython.core.display.HTML object>"
            ]
          },
          "metadata": {
            "tags": []
          }
        },
        {
          "output_type": "display_data",
          "data": {
            "text/html": [
              ""
            ],
            "text/plain": [
              "<IPython.core.display.HTML object>"
            ]
          },
          "metadata": {
            "tags": []
          }
        }
      ]
    },
    {
      "cell_type": "code",
      "metadata": {
        "id": "-m4QxQI6R5OI",
        "colab_type": "code",
        "colab": {}
      },
      "source": [
        "data_clas = load_data(path, 'data_clas_export.pkl', bs=16)"
      ],
      "execution_count": null,
      "outputs": []
    },
    {
      "cell_type": "code",
      "metadata": {
        "id": "XawfPy7_fVVi",
        "colab_type": "code",
        "colab": {
          "base_uri": "https://localhost:8080/",
          "height": 279
        },
        "outputId": "ca6155dd-8c78-4910-83ab-7fc7d4d16aae"
      },
      "source": [
        "data_clas.show_batch()"
      ],
      "execution_count": null,
      "outputs": [
        {
          "output_type": "display_data",
          "data": {
            "text/html": [
              "<table border=\"1\" class=\"dataframe\">\n",
              "  <thead>\n",
              "    <tr style=\"text-align: right;\">\n",
              "      <th>text</th>\n",
              "      <th>target</th>\n",
              "    </tr>\n",
              "  </thead>\n",
              "  <tbody>\n",
              "    <tr>\n",
              "      <td>xxbos xxmaj xxunk xxmaj victor xxmaj xxunk : a xxmaj review \\n \\n  xxmaj you know , xxmaj xxunk xxmaj victor xxmaj xxunk is like sticking your hands into a big , xxunk xxunk of xxunk . xxmaj it 's warm and xxunk , but you 're not sure if it feels right . xxmaj try as i might , no matter how warm and xxunk xxmaj xxunk xxmaj</td>\n",
              "      <td>negative</td>\n",
              "    </tr>\n",
              "    <tr>\n",
              "      <td>xxbos xxup the xxup shop xxup around xxup the xxup corner is one of the xxunk and most feel - good romantic comedies ever made . xxmaj there 's just no getting around that , and it 's hard to actually put one 's feeling for this film into words . xxmaj it 's not one of those films that tries too hard , nor does it come up with</td>\n",
              "      <td>positive</td>\n",
              "    </tr>\n",
              "    <tr>\n",
              "      <td>xxbos xxmaj this film sat on my xxmaj tivo for weeks before i watched it . i dreaded a self - indulgent xxunk flick about relationships gone bad . i was wrong ; this was an xxunk xxunk into the screwed - up xxunk of xxmaj new xxmaj xxunk . \\n \\n  xxmaj the format is the same as xxmaj max xxmaj xxunk ' \" xxmaj la xxmaj ronde</td>\n",
              "      <td>positive</td>\n",
              "    </tr>\n",
              "    <tr>\n",
              "      <td>xxbos xxmaj many neglect that this is n't just a classic due to the fact that it 's the first xxup 3d game , or even the first xxunk - up . xxmaj it 's also one of the first xxunk games , one of the xxunk definitely the first ) truly claustrophobic games , and just a pretty well - rounded gaming experience in general . xxmaj with graphics</td>\n",
              "      <td>positive</td>\n",
              "    </tr>\n",
              "    <tr>\n",
              "      <td>xxbos i really wanted to love this show . i truly , honestly did . \\n \\n  xxmaj for the first time , gay viewers get their own version of the \" xxmaj the xxmaj bachelor \" . xxmaj with the help of his obligatory \" hag \" xxmaj xxunk , xxmaj james , a good looking , well - to - do thirty - something has the chance</td>\n",
              "      <td>negative</td>\n",
              "    </tr>\n",
              "  </tbody>\n",
              "</table>"
            ],
            "text/plain": [
              "<IPython.core.display.HTML object>"
            ]
          },
          "metadata": {
            "tags": []
          }
        }
      ]
    },
    {
      "cell_type": "code",
      "metadata": {
        "id": "Oe5X_rCofOk5",
        "colab_type": "code",
        "colab": {
          "base_uri": "https://localhost:8080/",
          "height": 1000
        },
        "outputId": "84ea8df8-52ec-407f-e7f5-650a3212ee96"
      },
      "source": [
        "learn = text_classifier_learner(data_clas, AWD_LSTM, drop_mult=0.5)\n",
        "learn.load_encoder('ft_enc')"
      ],
      "execution_count": null,
      "outputs": [
        {
          "output_type": "execute_result",
          "data": {
            "text/plain": [
              "RNNLearner(data=TextClasDataBunch;\n",
              "\n",
              "Train: LabelList (799 items)\n",
              "x: TextList\n",
              "xxbos xxmaj in theory , films should be a form of entertainment . xxmaj while this xxunk documentaries and other experimental forms of film - making ; most movies , specially genre films , must not only tell it 's story or message , they must entertain their target audience in some way . xxmaj all this just to say that in my opinion a bad movie is not a movie with low production values or low - budget , a bad movie is one that is boring . \n",
              " \n",
              "  \" xxmaj hellborn \" or \" xxmaj asylum of the xxmaj damned \" as is known in the xxup u.s. , is a bad movie simply because it is just not involving , and xxunk boring and tiresome . xxmaj while it has a very good premise , it is just poorly developed and the mediocre acting does n't make things better . xxmaj on another hands the film probably could had been a fine or even classic b - movie , but here it is just a bad attempt at film - making . \n",
              " \n",
              "  xxmaj director xxmaj philip xxup j. xxmaj jones tells the tale of xxmaj james xxmaj bishop ( xxmaj matt xxmaj stasi ) , a young xxunk resident , who just got his dream job at xxmaj st. xxmaj andrew xxmaj mental xxmaj hospital ; but the old asylum seems to hide a secret . xxmaj after the mysterious death of some patients and the constant rumors of satanic xxunk , xxmaj james decides to find out what is going on ; only to find the xxunk of his boss , xxmaj dr. xxunk ( xxmaj bruce xxmaj payne ) , who believes that xxmaj bishop is going as insane as his patients . \n",
              " \n",
              "  xxmaj while the premise is quite interesting , the execution of the film leaves a lot to be desired . xxmaj in an attempt of making a supernatural psychological thriller , xxmaj jones goes for the easy way out and makes a movie filled with every cliché of the genre . xxmaj of course , there are lots of great movies that are also filled with clichés ; but in \" xxmaj hellborn \" every single one is wasted and turned into a cheap jump scare to keep things moving , resulting in a boring and predictable storyline . \n",
              " \n",
              "  xxmaj the acting is quite mediocre for the most part , with one big exception : xxmaj bruce xxmaj payne gives a top - notch performance that makes the movie look xxunk of such good acting . xxmaj matt xxmaj stasi is very weak as the lead character and the rest of the cast make forgettable performances . \n",
              " \n",
              "  xxmaj despite all this flaws , one thing has to be written about \" xxmaj hellborn \" ; it has a visual look very good for the budget and very similar to modern day big - budget xxmaj xxunk \" horror \" productions . xxmaj also , the make - up and prosthetics are done very nicely and the designs for the main antagonist are quite good . xxmaj sadly , the rest of the xxmaj special xxmaj effects are awful and outdated , making a huge contrast with the make - up & prosthetics . \n",
              " \n",
              "  \" xxmaj hellborn \" is a movie with a few good things xxunk by its serious flaws with terrible results . xxmaj hardcore horror or b - movie fans may be interested by its premise but it is a boring and tiresome experience . 3 / 10,xxbos i had never read xxmaj gary xxmaj paulsen 's novel , xxmaj hatchet , for which ' a xxmaj cry in the xxmaj wild ' is the adaptation of , so i ca n't make any comparisons to the book . i will , however , say that as a film on its own , adaptation or no adaptation , it was an underdeveloped adventure that provides no major explanation of its few characters . \n",
              " \n",
              "  xxmaj think of ' a xxmaj cry in the xxmaj wild ' as a less luxurious , teenage xxunk ( was xxmaj quincy , xxmaj california the only place this was filmed ? ) version of ' xxmaj cast xxmaj away . ' xxmaj jared xxmaj rushton is xxunk - old xxmaj brian xxmaj xxunk , a kid headed on a small plane to visit his father , until the craft xxunk over some deserted mountain terrain , leaving the kid stranded for quite a while and having to defend himself . \n",
              " \n",
              "  xxmaj there are basically three parts to the film . xxmaj the obvious being the ten or fifteen minute introduction of the characters , namely xxmaj brian and his mom . \n",
              " \n",
              "  xxmaj the next third of the movie ( which really xxunk nearly all of the film ) is that of xxmaj brian \" xxunk it . \" xxmaj these scenes contain no particularly amazing action , nothing spectacular other than lots of beautiful cinematography of a beautiful xxmaj xxunk landscape . xxmaj nothing to put you on edge , no real encounters ( except a xxunk confrontation with a xxunk ) , and no major xxunk to xxunk some sort of enjoyment or connection with the character on the screen . xxmaj you might even feel briefly bored with the passage of time as we witness xxmaj brian dealing with his situation through first , primitive means , and then more improved ones ( using xxunk , etc ) for his survival . xxmaj it is more like the ordinary time that passes if you were actually stuck in the situation , and that is pretty much about it . xxmaj in other words , they put no meat on the xxmaj paulsen 's words when they translated them into a visual media . \n",
              " \n",
              "  xxmaj and , of course , the third part of the movie is his rescue . \n",
              " \n",
              "  xxmaj there is a subplot that continuously seeks to make itself known during this time , however . xxmaj some conflict between xxmaj brian and his parents that created a xxunk , awkward relationship between them . xxmaj however , for the most part , it is only explained in brief , intermittent , minimal dialog flashbacks that look more like a back story for a music video . xxmaj any minute , the singer from xxmaj xxunk xxmaj xxunk , should chime in an start singing ' xxmaj sara . ' xxmaj other than what the viewer can draw from the implications , or guess for his own need to fill the gaps in the narrative , we get a very underdeveloped back story which was probably necessary to enjoy at least part of this film and create a connection to the characters , whether or not it really had anything to do with xxmaj brian 's survival adventure in the third part of the movie . xxmaj these are the flaws in the narrative that through the viewer into a xxunk as he struggles to find out what the heck those people there on the screen are doing and , for me , almost done to the point of screaming at the television to say something and tell me more ! \n",
              " \n",
              "  xxmaj it certainly was not , for me , a good adventure tale . xxmaj but , for fans of xxmaj jared xxmaj rushton , it was one of the last few movies he made . xxmaj so , watch it purely for nostalgia , if nothing else .,xxbos a definite no . a resounding xxup no . xxmaj this movie is an absolute dud . \n",
              " \n",
              "  xxmaj having been recommended to me by a friend very much into \" that sort of thing , \" i watched this movie with some anticipation of being informed , changed , moved , xxunk , xxunk , and all the other positive mystical things that could happen to me when i suddenly see xxmaj the xxmaj truth . xxmaj now this may sound like someone who is already xxunk to xxunk - xxunk anything dealing with the metaphysical , the metaphysical / physical boundaries of existence . xxmaj believe me , i am not such a person . i try to be open about any presentation and then decide xxunk . \n",
              " \n",
              "  xxmaj in terms of content , the only thing i found mildly interesting and informative , was the bit about xxunk , emotions , xxunk , and xxunk xxunk . xxmaj that was the only \" xxunk \" element i could find in the documentary part of this film . xxmaj the rest of the documentary xxunk around several topics and never seemed to xxunk and xxunk , try to tie up and conclude to a point . xxmaj and what was all that stuff about native xxmaj americans not being able to see the xxunk that xxmaj xxunk came in ? xxmaj who told the \" authorities \" in this film that that was what happened in xxunk ? xxmaj where they there too ? xxmaj had they compared this to scientific work being done in visual cognition ( the famous gorilla video , for example , visit the xxmaj visual xxmaj cognition xxmaj lab at the xxmaj university of xxmaj illinois site ) there may have been a more convincing point made . xxmaj here , however , it seemed like xxunk mystical xxunk - xxunk . \n",
              " \n",
              "  xxmaj as a film : this was n't one film , it was two . i found the documentary part mildly interesting , just to hear the people talking about what they were talking about ( i was annoyed that their credentials were n't presented at the bottom of the screen when they spoke , at least initially ! ) xxmaj but i found the \" story \" part of the movie with xxmaj matlin in it annoying , disjointed , intrusive , non - related and downright stupid . xxmaj that bit about the xxmaj polish wedding with that dance was not in the least bit funny . xxmaj it was laughable , ludicrous , sophomoric , and stupid . xxmaj and i found the use of the word \" xxmaj pollack \" offensive . xxmaj it just seemed so out of place and wrong . xxmaj is such usage okay because a member of the group uses a xxunk term to refer to the group because he or she is a member of the group ? xxmaj that may be okay to make a point , but it did n't seem to be used that way here . xxmaj and in any case , i do n't care what the reason , it offended me , a xxmaj pole . i never call myself or refer to my ethnic background as \" xxmaj pollack . \" xxmaj and i certainly do n't like like it when others do . xxmaj can i watch or listen to a bigoted conversation in which this term is used ? xxmaj you betcha ! xxmaj but again this did n't seem to be the case here . xxmaj it just seemed so out of place . xxmaj xxunk , xxunk . \n",
              " \n",
              "  xxmaj the acting was abysmal . xxmaj elaine xxmaj hendrix 's performance was totally unbelievable . xxmaj at times , it seemed like she was just reading her lines that had just been given to her . xxmaj xxunk xxmaj matlin for the most part seemed to be sleep walking through this whole thing . xxmaj perhaps she was xxunk by the material . i know i was . xxmaj if she was supposed to be portraying a disillusioned drugged - up anxiety - prone xxunk , it just did n't seem to click . xxmaj but by far , the world 's worst was xxmaj hendrix ! xxmaj all in all , i found this a disjointed , poorly acted piece of xxunk - trap .,xxbos xxmaj an xxunk of the skits and jokes you would have seen on a xxmaj xxunk stage in the first half of the 20th xxmaj century . xxmaj it 's a string of several jokes acted out . xxmaj some of them you could tell your xxmaj grandmother , some of them not , but it 's a fairly safe bet she 's heard them all before . xxmaj for what it tries to be , it 's not too bad . xxmaj before you rent it , remember that it 's an older style of entertainment and has more value as history than as comedy or titillation . xxmaj robin xxmaj williams has a couple of bits , but he 's xxunk with the other players .,xxbos xxmaj there 's a legion of xxmaj mick xxmaj garris xxunk out there who feel he could n't direct a horror film of quality if he had to . xxmaj and , xxup xxunk .. screenplay written by xxmaj stephen xxmaj xxunk often used as an example of this . i like xxup sleepwalkers , though i fully am aware that xxmaj garris just says f # xxunk it and lets all hell break loose about fifteen or so minutes into the movie . xxmaj forget character or plot development , who needs them anyway . xxmaj it 's about violent mayhem and bloody carnage as a mother and son pair of \" xxunk .. xxunk - human xxunk creatures who suck the xxunk from virginal female xxunk , moving from town to town , living a nomadic existence , truly xxunk their sights on a teenager who does n't surrender without a fight . xxmaj before all is said and done , many will be slaughtered as a mother xxunk n't xxunk the possible death of her beloved son . \n",
              " \n",
              "  xxmaj garris xxunk little time setting up those to be executed , as a xxunk xxmaj xxunk ) , suspecting handsome , xxmaj all xxmaj american charmer xxmaj charles xxunk xxmaj xxunk be someone entirely different from who he claims , gets his hand ripped off and his neck torn into . xxmaj charles xxunk pretty virgins into his arms , drawing their energy , in turn \" feeding \" his hungry mama , xxunk xxmaj krige ) . xxmaj the fresh new target is xxmaj tanya xxunk xxmaj amick ) , and she seems to be easy xxunk , but this will not be the case and when xxmaj charles is seriously injured in a xxunk .. thanks to a deputy 's cat , xxmaj xxunk ) , xxmaj mary 's vengeance will be xxunk on all those who get her way . xxmaj mary , come hell or high water , will retrieve xxmaj tanya in the goal of \" refreshing \" her dying son . \n",
              " \n",
              "  xxmaj like many teenagers , i had a crush on certain actresses i watched in movies . xxmaj such as xxmaj amy xxmaj xxunk , i was smitten with xxmaj mädchen xxmaj amick . xxmaj she 's simply xxunk in this movie and i love how she bites her lower lip displaying an obvious attraction towards xxmaj charles , unaware of his xxunk motives . i just knew that xxmaj mädchen xxmaj amick would be destined to be a scream queen , but this would never be the case . xxmaj too bad because i would 've welcomed her in the genre with open arms . \n",
              " \n",
              "  xxmaj krige is xxunk as the menacing , damn sexy , but vicious and mean bitch who wipes out an entire police force and poor xxmaj tanya 's parents in one fail xxunk , in less than ten or so minutes . xxmaj she stabs one in the back with a corn xxunk ! xxmaj she bites the fingers off of poor xxmaj ron xxmaj xxunk , before cracking his xxunk .. a xxunk xxunk ) , xxunk him unconscious with his own xxunk ! xxmaj she xxunk xxmaj tanya 's mom through a window after breaking a rose xxunk over her father 's face ! a deputy is stabbed in his ear by xxunk - xxunk ! ) , falling on the xxunk for extra impact . xxmaj poor xxmaj tanya is dragged by her hair from her home by xxmaj mary , driven to the xxmaj brady home , and forced into an xxunk dance with the crippled monster ! xxmaj the sheriff is hurled onto a xxunk fence and we see how cats combat the sleepwalkers unlike humans . xxmaj we see xxmaj mary and xxmaj charles ' abilities to \" dim \" themselves and his car using a power of xxunk . xxmaj writer xxmaj stephen xxmaj king even finds time to include himself and horror director buddies of his in a crime scene sequence with xxmaj clive xxmaj barker and xxmaj tobe xxmaj hooper as xxunk officers , xxmaj joe xxmaj xxunk and xxmaj john xxmaj xxunk as photograph experts . \n",
              " \n",
              "  xxmaj the film is shot in a tongue - in - cheek , let - it - all - hang - out manner with music appropriately xxunk this technique home . xxmaj it 's about the ultra - violence , simple as that , with some deranged behavior and jet black humor xxunk xxmaj garris ' direction and xxmaj king 's screenplay . xxmaj the xxunk angle of the sleepwalkers is a bit jarring and in - your - face . xxmaj without a xxunk of complexity , this is closer in xxunk to xxmaj king 's own demented xxup xxunk xxup overdrive than his more serious works .\n",
              "y: CategoryList\n",
              "negative,negative,negative,negative,positive\n",
              "Path: /root/.fastai/data/imdb_sample;\n",
              "\n",
              "Valid: LabelList (201 items)\n",
              "x: TextList\n",
              "xxbos xxmaj this movie had potential , but what makes it really bad is xxmaj lindsay xxmaj xxunk 's acting . i 've never seen her before in anything else and maybe there are some xxmaj xxunk fans out there that like her in something else , but her performance in this movie is bad . \n",
              " \n",
              "  xxmaj her delivery is xxunk . xxmaj when she delivered her lines it appeared that she was trying to make sure she had the lines right and was simply reading off the list in her head . xxmaj so , her voice has very little xxunk . i ca n't believe someone that bad at acting was given a lead role in a movie . xxmaj she has to know somebody in the biz . \n",
              " \n",
              "  xxmaj now i hate to be this mean about her , but the comment has to be \" this \" long and her performance is what sticks out more than anything else . \n",
              " \n",
              "  xxmaj however , i liked where the story was going so i continued to watch it . xxmaj the first part of the script has the xxunk of a good movie . xxmaj but the end was disappointing as well . xxmaj maybe if her acting had been better , i would have liked it .,xxbos xxmaj xxunk to xxunk xxunk is the best comedy of all times . xxmaj believe me i saw a lot of movies and comedies but tell me which one make you smile every time you watching it . xxmaj but truth is that the humour in this comedy is special . xxmaj it is xxunk for xxunk . xxmaj and all former xxunk of xxunk know it very well ! ! ! xxmaj so i think the rest of audience ( for example : xxmaj in xxmaj xxunk enjoy it so much . xxmaj because the xxunk ruin the hole thing . xxmaj but they should at least try xxrep 4 ! xxmaj yes it is ironic ! xxmaj this is the best flick in xxmaj xxunk history and the world does n't understand it ! xxunk xxmaj if you have got a chance to see this one , do n't blew up xxup ok !,xxbos xxmaj this is the last of four xxunk from xxmaj france i 've scheduled for viewing during this xxmaj christmas season : the others ( in order of viewing ) were the uninspired xxup the xxup black xxup tulip ( 1964 ; from the same director as this one but not nearly as good ) , the surprisingly effective xxup lady xxmaj oscar ( 1979 ; which had xxunk as a xxmaj japanese manga ! ) and the splendid xxup cartouche ( xxunk ) . xxmaj actually , i had watched this one not too long ago on late - night xxmaj italian xxup tv and recall not being especially xxunk over by it , so that i was genuinely surprised by how much i enjoyed it this time around ( also bearing in mind the xxunk lack of enthusiasm shown towards the film here and elsewhere when it was first announced as an upcoming xxup dvd release from xxmaj criterion ) . \n",
              " \n",
              "  xxmaj incidentally , xxup fanfan xxup la xxup tulipe has quite a bit in common with the xxunk - mentioned xxup cartouche : not just cast and crew members ( producers xxmaj georges xxmaj xxunk and xxmaj xxunk xxmaj xxunk , cinematographer xxmaj christian xxmaj xxunk , actor xxmaj noel xxmaj roquevert ) but plot - wise as well  in fact , the hero is a womanizing soldier ( xxmaj jean - xxmaj paul xxmaj belmondo 's xxmaj cartouche had also had a brief military spell ) who 's loved by a fiery girl ( in this case , gypsy xxmaj gina xxmaj lollobrigida ) while he 's himself obsessed by an impossible love ( here , it 's none other than the king 's daughter ) ! xxmaj as in the later film , too , xxmaj fanfan ( an ideally cast xxmaj gerard xxmaj xxunk who , ironically , is so full of life here that one finds it hard to believe that he would be xxunk down by cancer within 7 years ' time ) is xxunk by two fun - loving yet xxunk men ( one of them is actually his superior officer and the heroine 's own father ) and opposed by an xxunk figure within his own ranks ( the xxunk xxmaj roquevert , with whom the hero eventually xxunk in a rooftop duel since he too has xxunk designs on the gypsy girl ) ! ; for the record , xxmaj lollobrigida will xxunk xxmaj philippe in her next film , xxmaj xxunk xxmaj clair 's delightful romantic fantasy xxup xxunk xxup xxunk xxup de xxup xxunk ( xxunk ) . \n",
              " \n",
              "  xxup fanfan proved to be a big box - office hit on its home - ground and even xxunk a surprising ( but well - deserved ) xxmaj best xxmaj direction award at xxmaj xxunk over more renowned films like xxup an xxmaj american xxup in xxmaj paris ( 1951 ) , xxup detective xxup story ( 1951 ) , xxup othello , xxup xxunk xxup d. and xxup viva xxup xxunk ! xxmaj in fact , its popularity xxunk its re - release in a computer - colored version ( presumably for the benefit of viewers who would n't touch a black - and - white product with a ten - foot pole ) and the xxmaj criterion xxup dvd itself contains a sample from this xxunk ; being obviously a foreign - language title , there 's also the dubious choice of an xxmaj english - dubbed soundtrack but , even if these proved not especially painful to sit through considering , when all is said and done , there 's simply no substitute for the original ! \n",
              " \n",
              "  xxup fanfan xxup la xxup tulipe ( a xxunk given the hero by a young xxmaj xxunk xxmaj page as the celebrated xxmaj xxunk xxmaj de xxmaj xxunk ) contains about as much comedy as ( the expected ) action and romance ; while some may find this overwhelming , i do n't agree myself as i enjoyed the sharply satirical narration and , on the whole , this combination is comparable with xxmaj xxunk xxmaj xxunk 's equally xxunk xxup the xxup adventures xxup of xxup gerard ( 1970 ) . xxmaj that said , the xxunk here are remarkably xxunk for an essentially lighthearted enterprise ( particularly a xxunk in the woods and the xxunk at a convent ) and the film itself rather adult at times ( with numerous xxunk to sexuality as well as xxunk language adopted throughout ) when viewed back - to - back with xxunk xxmaj hollywood fare as i did now ; the climax , then is quite ingenious : the enemy forces ( who , amusingly , are made to speak in xxunk - up gibberish ! ) are xxunk by our heroic trio alone , much to the king 's xxunk who , as portrayed by xxmaj marcel xxmaj xxunk  best - known for his role of leader of the xxmaj parisian underworld in xxmaj marcel xxmaj xxunk ' 's xxup children xxup of xxup paradise ( 1945 )  is himself something of a xxunk . \n",
              " \n",
              "  xxup p.s. xxmaj an xxmaj italian xxup tv channel has been threatening to screen xxmaj christian - xxmaj xxunk 's promising xxup champagne xxup for xxup xxunk ( 1964 ) for months now but , despite xxunk it three times already ( with a tentative fourth one xxunk for next week ) , they have yet to show it ; even so , i do have three more films of his in my xxunk xxup vhs pile ( equally culled from late - night xxmaj italian xxup tv screenings ) : the three - hour epic xxup la xxup xxunk xxup de xxup xxunk ( 1948 ; also starring xxmaj gerard xxmaj philippe ) , xxup the xxup second xxup twin ( xxunk ) and xxup the xxup legend xxup of xxup xxunk xxup king ( 1971 ; with xxmaj xxunk xxmaj bardot and xxmaj xxunk xxmaj xxunk ) .,xxbos xxmaj omar xxmaj epps is an outstanding actor . i really think he gets into his character xxunk . xxmaj when xxunk gets shot he shows true emotion . xxmaj he also shows true emotion when xxunk puts the gun to him in the room . xxmaj omar is a very talented actor ! !,xxbos xxmaj one of the worst movies i ever saw . xxmaj my only thought was : \" how can i get my money back from xxmaj hollywood xxmaj video \" . xxmaj this is no way worth four dollars , or any dollars . i think it was an attempt to rip off xxmaj the xxmaj mexican , or xxmaj xxunk xxmaj xxunk 's movies , but it failed miserably to do this . \n",
              " \n",
              "  xxmaj the acting was terrible , i felt sorry for the actors that they could n't find something better to do with their time . xxmaj the story was ridiculous . xxmaj we were calling out the lines ahead of the actors , it was so predictable . xxmaj the xxmaj mexican accent of the leading lady was insultingly exaggerated , worse than a cartoon . \n",
              " \n",
              "  xxmaj skip it .\n",
              "y: CategoryList\n",
              "negative,positive,positive,positive,negative\n",
              "Path: /root/.fastai/data/imdb_sample;\n",
              "\n",
              "Test: None, model=SequentialRNN(\n",
              "  (0): MultiBatchEncoder(\n",
              "    (module): AWD_LSTM(\n",
              "      (encoder): Embedding(8840, 400, padding_idx=1)\n",
              "      (encoder_dp): EmbeddingDropout(\n",
              "        (emb): Embedding(8840, 400, padding_idx=1)\n",
              "      )\n",
              "      (rnns): ModuleList(\n",
              "        (0): WeightDropout(\n",
              "          (module): LSTM(400, 1152, batch_first=True)\n",
              "        )\n",
              "        (1): WeightDropout(\n",
              "          (module): LSTM(1152, 1152, batch_first=True)\n",
              "        )\n",
              "        (2): WeightDropout(\n",
              "          (module): LSTM(1152, 400, batch_first=True)\n",
              "        )\n",
              "      )\n",
              "      (input_dp): RNNDropout()\n",
              "      (hidden_dps): ModuleList(\n",
              "        (0): RNNDropout()\n",
              "        (1): RNNDropout()\n",
              "        (2): RNNDropout()\n",
              "      )\n",
              "    )\n",
              "  )\n",
              "  (1): PoolingLinearClassifier(\n",
              "    (layers): Sequential(\n",
              "      (0): BatchNorm1d(1200, eps=1e-05, momentum=0.1, affine=True, track_running_stats=True)\n",
              "      (1): Dropout(p=0.2, inplace=False)\n",
              "      (2): Linear(in_features=1200, out_features=50, bias=True)\n",
              "      (3): ReLU(inplace=True)\n",
              "      (4): BatchNorm1d(50, eps=1e-05, momentum=0.1, affine=True, track_running_stats=True)\n",
              "      (5): Dropout(p=0.1, inplace=False)\n",
              "      (6): Linear(in_features=50, out_features=2, bias=True)\n",
              "    )\n",
              "  )\n",
              "), opt_func=functools.partial(<class 'torch.optim.adam.Adam'>, betas=(0.9, 0.99)), loss_func=FlattenedLoss of CrossEntropyLoss(), metrics=[<function accuracy at 0x7ff6b4690d90>], true_wd=True, bn_wd=True, wd=0.01, train_bn=True, path=PosixPath('/root/.fastai/data/imdb_sample'), model_dir='models', callback_fns=[functools.partial(<class 'fastai.basic_train.Recorder'>, add_time=True, silent=False)], callbacks=[RNNTrainer\n",
              "learn: RNNLearner(data=TextClasDataBunch;\n",
              "\n",
              "Train: LabelList (799 items)\n",
              "x: TextList\n",
              "xxbos xxmaj in theory , films should be a form of entertainment . xxmaj while this xxunk documentaries and other experimental forms of film - making ; most movies , specially genre films , must not only tell it 's story or message , they must entertain their target audience in some way . xxmaj all this just to say that in my opinion a bad movie is not a movie with low production values or low - budget , a bad movie is one that is boring . \n",
              " \n",
              "  \" xxmaj hellborn \" or \" xxmaj asylum of the xxmaj damned \" as is known in the xxup u.s. , is a bad movie simply because it is just not involving , and xxunk boring and tiresome . xxmaj while it has a very good premise , it is just poorly developed and the mediocre acting does n't make things better . xxmaj on another hands the film probably could had been a fine or even classic b - movie , but here it is just a bad attempt at film - making . \n",
              " \n",
              "  xxmaj director xxmaj philip xxup j. xxmaj jones tells the tale of xxmaj james xxmaj bishop ( xxmaj matt xxmaj stasi ) , a young xxunk resident , who just got his dream job at xxmaj st. xxmaj andrew xxmaj mental xxmaj hospital ; but the old asylum seems to hide a secret . xxmaj after the mysterious death of some patients and the constant rumors of satanic xxunk , xxmaj james decides to find out what is going on ; only to find the xxunk of his boss , xxmaj dr. xxunk ( xxmaj bruce xxmaj payne ) , who believes that xxmaj bishop is going as insane as his patients . \n",
              " \n",
              "  xxmaj while the premise is quite interesting , the execution of the film leaves a lot to be desired . xxmaj in an attempt of making a supernatural psychological thriller , xxmaj jones goes for the easy way out and makes a movie filled with every cliché of the genre . xxmaj of course , there are lots of great movies that are also filled with clichés ; but in \" xxmaj hellborn \" every single one is wasted and turned into a cheap jump scare to keep things moving , resulting in a boring and predictable storyline . \n",
              " \n",
              "  xxmaj the acting is quite mediocre for the most part , with one big exception : xxmaj bruce xxmaj payne gives a top - notch performance that makes the movie look xxunk of such good acting . xxmaj matt xxmaj stasi is very weak as the lead character and the rest of the cast make forgettable performances . \n",
              " \n",
              "  xxmaj despite all this flaws , one thing has to be written about \" xxmaj hellborn \" ; it has a visual look very good for the budget and very similar to modern day big - budget xxmaj xxunk \" horror \" productions . xxmaj also , the make - up and prosthetics are done very nicely and the designs for the main antagonist are quite good . xxmaj sadly , the rest of the xxmaj special xxmaj effects are awful and outdated , making a huge contrast with the make - up & prosthetics . \n",
              " \n",
              "  \" xxmaj hellborn \" is a movie with a few good things xxunk by its serious flaws with terrible results . xxmaj hardcore horror or b - movie fans may be interested by its premise but it is a boring and tiresome experience . 3 / 10,xxbos i had never read xxmaj gary xxmaj paulsen 's novel , xxmaj hatchet , for which ' a xxmaj cry in the xxmaj wild ' is the adaptation of , so i ca n't make any comparisons to the book . i will , however , say that as a film on its own , adaptation or no adaptation , it was an underdeveloped adventure that provides no major explanation of its few characters . \n",
              " \n",
              "  xxmaj think of ' a xxmaj cry in the xxmaj wild ' as a less luxurious , teenage xxunk ( was xxmaj quincy , xxmaj california the only place this was filmed ? ) version of ' xxmaj cast xxmaj away . ' xxmaj jared xxmaj rushton is xxunk - old xxmaj brian xxmaj xxunk , a kid headed on a small plane to visit his father , until the craft xxunk over some deserted mountain terrain , leaving the kid stranded for quite a while and having to defend himself . \n",
              " \n",
              "  xxmaj there are basically three parts to the film . xxmaj the obvious being the ten or fifteen minute introduction of the characters , namely xxmaj brian and his mom . \n",
              " \n",
              "  xxmaj the next third of the movie ( which really xxunk nearly all of the film ) is that of xxmaj brian \" xxunk it . \" xxmaj these scenes contain no particularly amazing action , nothing spectacular other than lots of beautiful cinematography of a beautiful xxmaj xxunk landscape . xxmaj nothing to put you on edge , no real encounters ( except a xxunk confrontation with a xxunk ) , and no major xxunk to xxunk some sort of enjoyment or connection with the character on the screen . xxmaj you might even feel briefly bored with the passage of time as we witness xxmaj brian dealing with his situation through first , primitive means , and then more improved ones ( using xxunk , etc ) for his survival . xxmaj it is more like the ordinary time that passes if you were actually stuck in the situation , and that is pretty much about it . xxmaj in other words , they put no meat on the xxmaj paulsen 's words when they translated them into a visual media . \n",
              " \n",
              "  xxmaj and , of course , the third part of the movie is his rescue . \n",
              " \n",
              "  xxmaj there is a subplot that continuously seeks to make itself known during this time , however . xxmaj some conflict between xxmaj brian and his parents that created a xxunk , awkward relationship between them . xxmaj however , for the most part , it is only explained in brief , intermittent , minimal dialog flashbacks that look more like a back story for a music video . xxmaj any minute , the singer from xxmaj xxunk xxmaj xxunk , should chime in an start singing ' xxmaj sara . ' xxmaj other than what the viewer can draw from the implications , or guess for his own need to fill the gaps in the narrative , we get a very underdeveloped back story which was probably necessary to enjoy at least part of this film and create a connection to the characters , whether or not it really had anything to do with xxmaj brian 's survival adventure in the third part of the movie . xxmaj these are the flaws in the narrative that through the viewer into a xxunk as he struggles to find out what the heck those people there on the screen are doing and , for me , almost done to the point of screaming at the television to say something and tell me more ! \n",
              " \n",
              "  xxmaj it certainly was not , for me , a good adventure tale . xxmaj but , for fans of xxmaj jared xxmaj rushton , it was one of the last few movies he made . xxmaj so , watch it purely for nostalgia , if nothing else .,xxbos a definite no . a resounding xxup no . xxmaj this movie is an absolute dud . \n",
              " \n",
              "  xxmaj having been recommended to me by a friend very much into \" that sort of thing , \" i watched this movie with some anticipation of being informed , changed , moved , xxunk , xxunk , and all the other positive mystical things that could happen to me when i suddenly see xxmaj the xxmaj truth . xxmaj now this may sound like someone who is already xxunk to xxunk - xxunk anything dealing with the metaphysical , the metaphysical / physical boundaries of existence . xxmaj believe me , i am not such a person . i try to be open about any presentation and then decide xxunk . \n",
              " \n",
              "  xxmaj in terms of content , the only thing i found mildly interesting and informative , was the bit about xxunk , emotions , xxunk , and xxunk xxunk . xxmaj that was the only \" xxunk \" element i could find in the documentary part of this film . xxmaj the rest of the documentary xxunk around several topics and never seemed to xxunk and xxunk , try to tie up and conclude to a point . xxmaj and what was all that stuff about native xxmaj americans not being able to see the xxunk that xxmaj xxunk came in ? xxmaj who told the \" authorities \" in this film that that was what happened in xxunk ? xxmaj where they there too ? xxmaj had they compared this to scientific work being done in visual cognition ( the famous gorilla video , for example , visit the xxmaj visual xxmaj cognition xxmaj lab at the xxmaj university of xxmaj illinois site ) there may have been a more convincing point made . xxmaj here , however , it seemed like xxunk mystical xxunk - xxunk . \n",
              " \n",
              "  xxmaj as a film : this was n't one film , it was two . i found the documentary part mildly interesting , just to hear the people talking about what they were talking about ( i was annoyed that their credentials were n't presented at the bottom of the screen when they spoke , at least initially ! ) xxmaj but i found the \" story \" part of the movie with xxmaj matlin in it annoying , disjointed , intrusive , non - related and downright stupid . xxmaj that bit about the xxmaj polish wedding with that dance was not in the least bit funny . xxmaj it was laughable , ludicrous , sophomoric , and stupid . xxmaj and i found the use of the word \" xxmaj pollack \" offensive . xxmaj it just seemed so out of place and wrong . xxmaj is such usage okay because a member of the group uses a xxunk term to refer to the group because he or she is a member of the group ? xxmaj that may be okay to make a point , but it did n't seem to be used that way here . xxmaj and in any case , i do n't care what the reason , it offended me , a xxmaj pole . i never call myself or refer to my ethnic background as \" xxmaj pollack . \" xxmaj and i certainly do n't like like it when others do . xxmaj can i watch or listen to a bigoted conversation in which this term is used ? xxmaj you betcha ! xxmaj but again this did n't seem to be the case here . xxmaj it just seemed so out of place . xxmaj xxunk , xxunk . \n",
              " \n",
              "  xxmaj the acting was abysmal . xxmaj elaine xxmaj hendrix 's performance was totally unbelievable . xxmaj at times , it seemed like she was just reading her lines that had just been given to her . xxmaj xxunk xxmaj matlin for the most part seemed to be sleep walking through this whole thing . xxmaj perhaps she was xxunk by the material . i know i was . xxmaj if she was supposed to be portraying a disillusioned drugged - up anxiety - prone xxunk , it just did n't seem to click . xxmaj but by far , the world 's worst was xxmaj hendrix ! xxmaj all in all , i found this a disjointed , poorly acted piece of xxunk - trap .,xxbos xxmaj an xxunk of the skits and jokes you would have seen on a xxmaj xxunk stage in the first half of the 20th xxmaj century . xxmaj it 's a string of several jokes acted out . xxmaj some of them you could tell your xxmaj grandmother , some of them not , but it 's a fairly safe bet she 's heard them all before . xxmaj for what it tries to be , it 's not too bad . xxmaj before you rent it , remember that it 's an older style of entertainment and has more value as history than as comedy or titillation . xxmaj robin xxmaj williams has a couple of bits , but he 's xxunk with the other players .,xxbos xxmaj there 's a legion of xxmaj mick xxmaj garris xxunk out there who feel he could n't direct a horror film of quality if he had to . xxmaj and , xxup xxunk .. screenplay written by xxmaj stephen xxmaj xxunk often used as an example of this . i like xxup sleepwalkers , though i fully am aware that xxmaj garris just says f # xxunk it and lets all hell break loose about fifteen or so minutes into the movie . xxmaj forget character or plot development , who needs them anyway . xxmaj it 's about violent mayhem and bloody carnage as a mother and son pair of \" xxunk .. xxunk - human xxunk creatures who suck the xxunk from virginal female xxunk , moving from town to town , living a nomadic existence , truly xxunk their sights on a teenager who does n't surrender without a fight . xxmaj before all is said and done , many will be slaughtered as a mother xxunk n't xxunk the possible death of her beloved son . \n",
              " \n",
              "  xxmaj garris xxunk little time setting up those to be executed , as a xxunk xxmaj xxunk ) , suspecting handsome , xxmaj all xxmaj american charmer xxmaj charles xxunk xxmaj xxunk be someone entirely different from who he claims , gets his hand ripped off and his neck torn into . xxmaj charles xxunk pretty virgins into his arms , drawing their energy , in turn \" feeding \" his hungry mama , xxunk xxmaj krige ) . xxmaj the fresh new target is xxmaj tanya xxunk xxmaj amick ) , and she seems to be easy xxunk , but this will not be the case and when xxmaj charles is seriously injured in a xxunk .. thanks to a deputy 's cat , xxmaj xxunk ) , xxmaj mary 's vengeance will be xxunk on all those who get her way . xxmaj mary , come hell or high water , will retrieve xxmaj tanya in the goal of \" refreshing \" her dying son . \n",
              " \n",
              "  xxmaj like many teenagers , i had a crush on certain actresses i watched in movies . xxmaj such as xxmaj amy xxmaj xxunk , i was smitten with xxmaj mädchen xxmaj amick . xxmaj she 's simply xxunk in this movie and i love how she bites her lower lip displaying an obvious attraction towards xxmaj charles , unaware of his xxunk motives . i just knew that xxmaj mädchen xxmaj amick would be destined to be a scream queen , but this would never be the case . xxmaj too bad because i would 've welcomed her in the genre with open arms . \n",
              " \n",
              "  xxmaj krige is xxunk as the menacing , damn sexy , but vicious and mean bitch who wipes out an entire police force and poor xxmaj tanya 's parents in one fail xxunk , in less than ten or so minutes . xxmaj she stabs one in the back with a corn xxunk ! xxmaj she bites the fingers off of poor xxmaj ron xxmaj xxunk , before cracking his xxunk .. a xxunk xxunk ) , xxunk him unconscious with his own xxunk ! xxmaj she xxunk xxmaj tanya 's mom through a window after breaking a rose xxunk over her father 's face ! a deputy is stabbed in his ear by xxunk - xxunk ! ) , falling on the xxunk for extra impact . xxmaj poor xxmaj tanya is dragged by her hair from her home by xxmaj mary , driven to the xxmaj brady home , and forced into an xxunk dance with the crippled monster ! xxmaj the sheriff is hurled onto a xxunk fence and we see how cats combat the sleepwalkers unlike humans . xxmaj we see xxmaj mary and xxmaj charles ' abilities to \" dim \" themselves and his car using a power of xxunk . xxmaj writer xxmaj stephen xxmaj king even finds time to include himself and horror director buddies of his in a crime scene sequence with xxmaj clive xxmaj barker and xxmaj tobe xxmaj hooper as xxunk officers , xxmaj joe xxmaj xxunk and xxmaj john xxmaj xxunk as photograph experts . \n",
              " \n",
              "  xxmaj the film is shot in a tongue - in - cheek , let - it - all - hang - out manner with music appropriately xxunk this technique home . xxmaj it 's about the ultra - violence , simple as that , with some deranged behavior and jet black humor xxunk xxmaj garris ' direction and xxmaj king 's screenplay . xxmaj the xxunk angle of the sleepwalkers is a bit jarring and in - your - face . xxmaj without a xxunk of complexity , this is closer in xxunk to xxmaj king 's own demented xxup xxunk xxup overdrive than his more serious works .\n",
              "y: CategoryList\n",
              "negative,negative,negative,negative,positive\n",
              "Path: /root/.fastai/data/imdb_sample;\n",
              "\n",
              "Valid: LabelList (201 items)\n",
              "x: TextList\n",
              "xxbos xxmaj this movie had potential , but what makes it really bad is xxmaj lindsay xxmaj xxunk 's acting . i 've never seen her before in anything else and maybe there are some xxmaj xxunk fans out there that like her in something else , but her performance in this movie is bad . \n",
              " \n",
              "  xxmaj her delivery is xxunk . xxmaj when she delivered her lines it appeared that she was trying to make sure she had the lines right and was simply reading off the list in her head . xxmaj so , her voice has very little xxunk . i ca n't believe someone that bad at acting was given a lead role in a movie . xxmaj she has to know somebody in the biz . \n",
              " \n",
              "  xxmaj now i hate to be this mean about her , but the comment has to be \" this \" long and her performance is what sticks out more than anything else . \n",
              " \n",
              "  xxmaj however , i liked where the story was going so i continued to watch it . xxmaj the first part of the script has the xxunk of a good movie . xxmaj but the end was disappointing as well . xxmaj maybe if her acting had been better , i would have liked it .,xxbos xxmaj xxunk to xxunk xxunk is the best comedy of all times . xxmaj believe me i saw a lot of movies and comedies but tell me which one make you smile every time you watching it . xxmaj but truth is that the humour in this comedy is special . xxmaj it is xxunk for xxunk . xxmaj and all former xxunk of xxunk know it very well ! ! ! xxmaj so i think the rest of audience ( for example : xxmaj in xxmaj xxunk enjoy it so much . xxmaj because the xxunk ruin the hole thing . xxmaj but they should at least try xxrep 4 ! xxmaj yes it is ironic ! xxmaj this is the best flick in xxmaj xxunk history and the world does n't understand it ! xxunk xxmaj if you have got a chance to see this one , do n't blew up xxup ok !,xxbos xxmaj this is the last of four xxunk from xxmaj france i 've scheduled for viewing during this xxmaj christmas season : the others ( in order of viewing ) were the uninspired xxup the xxup black xxup tulip ( 1964 ; from the same director as this one but not nearly as good ) , the surprisingly effective xxup lady xxmaj oscar ( 1979 ; which had xxunk as a xxmaj japanese manga ! ) and the splendid xxup cartouche ( xxunk ) . xxmaj actually , i had watched this one not too long ago on late - night xxmaj italian xxup tv and recall not being especially xxunk over by it , so that i was genuinely surprised by how much i enjoyed it this time around ( also bearing in mind the xxunk lack of enthusiasm shown towards the film here and elsewhere when it was first announced as an upcoming xxup dvd release from xxmaj criterion ) . \n",
              " \n",
              "  xxmaj incidentally , xxup fanfan xxup la xxup tulipe has quite a bit in common with the xxunk - mentioned xxup cartouche : not just cast and crew members ( producers xxmaj georges xxmaj xxunk and xxmaj xxunk xxmaj xxunk , cinematographer xxmaj christian xxmaj xxunk , actor xxmaj noel xxmaj roquevert ) but plot - wise as well  in fact , the hero is a womanizing soldier ( xxmaj jean - xxmaj paul xxmaj belmondo 's xxmaj cartouche had also had a brief military spell ) who 's loved by a fiery girl ( in this case , gypsy xxmaj gina xxmaj lollobrigida ) while he 's himself obsessed by an impossible love ( here , it 's none other than the king 's daughter ) ! xxmaj as in the later film , too , xxmaj fanfan ( an ideally cast xxmaj gerard xxmaj xxunk who , ironically , is so full of life here that one finds it hard to believe that he would be xxunk down by cancer within 7 years ' time ) is xxunk by two fun - loving yet xxunk men ( one of them is actually his superior officer and the heroine 's own father ) and opposed by an xxunk figure within his own ranks ( the xxunk xxmaj roquevert , with whom the hero eventually xxunk in a rooftop duel since he too has xxunk designs on the gypsy girl ) ! ; for the record , xxmaj lollobrigida will xxunk xxmaj philippe in her next film , xxmaj xxunk xxmaj clair 's delightful romantic fantasy xxup xxunk xxup xxunk xxup de xxup xxunk ( xxunk ) . \n",
              " \n",
              "  xxup fanfan proved to be a big box - office hit on its home - ground and even xxunk a surprising ( but well - deserved ) xxmaj best xxmaj direction award at xxmaj xxunk over more renowned films like xxup an xxmaj american xxup in xxmaj paris ( 1951 ) , xxup detective xxup story ( 1951 ) , xxup othello , xxup xxunk xxup d. and xxup viva xxup xxunk ! xxmaj in fact , its popularity xxunk its re - release in a computer - colored version ( presumably for the benefit of viewers who would n't touch a black - and - white product with a ten - foot pole ) and the xxmaj criterion xxup dvd itself contains a sample from this xxunk ; being obviously a foreign - language title , there 's also the dubious choice of an xxmaj english - dubbed soundtrack but , even if these proved not especially painful to sit through considering , when all is said and done , there 's simply no substitute for the original ! \n",
              " \n",
              "  xxup fanfan xxup la xxup tulipe ( a xxunk given the hero by a young xxmaj xxunk xxmaj page as the celebrated xxmaj xxunk xxmaj de xxmaj xxunk ) contains about as much comedy as ( the expected ) action and romance ; while some may find this overwhelming , i do n't agree myself as i enjoyed the sharply satirical narration and , on the whole , this combination is comparable with xxmaj xxunk xxmaj xxunk 's equally xxunk xxup the xxup adventures xxup of xxup gerard ( 1970 ) . xxmaj that said , the xxunk here are remarkably xxunk for an essentially lighthearted enterprise ( particularly a xxunk in the woods and the xxunk at a convent ) and the film itself rather adult at times ( with numerous xxunk to sexuality as well as xxunk language adopted throughout ) when viewed back - to - back with xxunk xxmaj hollywood fare as i did now ; the climax , then is quite ingenious : the enemy forces ( who , amusingly , are made to speak in xxunk - up gibberish ! ) are xxunk by our heroic trio alone , much to the king 's xxunk who , as portrayed by xxmaj marcel xxmaj xxunk  best - known for his role of leader of the xxmaj parisian underworld in xxmaj marcel xxmaj xxunk ' 's xxup children xxup of xxup paradise ( 1945 )  is himself something of a xxunk . \n",
              " \n",
              "  xxup p.s. xxmaj an xxmaj italian xxup tv channel has been threatening to screen xxmaj christian - xxmaj xxunk 's promising xxup champagne xxup for xxup xxunk ( 1964 ) for months now but , despite xxunk it three times already ( with a tentative fourth one xxunk for next week ) , they have yet to show it ; even so , i do have three more films of his in my xxunk xxup vhs pile ( equally culled from late - night xxmaj italian xxup tv screenings ) : the three - hour epic xxup la xxup xxunk xxup de xxup xxunk ( 1948 ; also starring xxmaj gerard xxmaj philippe ) , xxup the xxup second xxup twin ( xxunk ) and xxup the xxup legend xxup of xxup xxunk xxup king ( 1971 ; with xxmaj xxunk xxmaj bardot and xxmaj xxunk xxmaj xxunk ) .,xxbos xxmaj omar xxmaj epps is an outstanding actor . i really think he gets into his character xxunk . xxmaj when xxunk gets shot he shows true emotion . xxmaj he also shows true emotion when xxunk puts the gun to him in the room . xxmaj omar is a very talented actor ! !,xxbos xxmaj one of the worst movies i ever saw . xxmaj my only thought was : \" how can i get my money back from xxmaj hollywood xxmaj video \" . xxmaj this is no way worth four dollars , or any dollars . i think it was an attempt to rip off xxmaj the xxmaj mexican , or xxmaj xxunk xxmaj xxunk 's movies , but it failed miserably to do this . \n",
              " \n",
              "  xxmaj the acting was terrible , i felt sorry for the actors that they could n't find something better to do with their time . xxmaj the story was ridiculous . xxmaj we were calling out the lines ahead of the actors , it was so predictable . xxmaj the xxmaj mexican accent of the leading lady was insultingly exaggerated , worse than a cartoon . \n",
              " \n",
              "  xxmaj skip it .\n",
              "y: CategoryList\n",
              "negative,positive,positive,positive,negative\n",
              "Path: /root/.fastai/data/imdb_sample;\n",
              "\n",
              "Test: None, model=SequentialRNN(\n",
              "  (0): MultiBatchEncoder(\n",
              "    (module): AWD_LSTM(\n",
              "      (encoder): Embedding(8840, 400, padding_idx=1)\n",
              "      (encoder_dp): EmbeddingDropout(\n",
              "        (emb): Embedding(8840, 400, padding_idx=1)\n",
              "      )\n",
              "      (rnns): ModuleList(\n",
              "        (0): WeightDropout(\n",
              "          (module): LSTM(400, 1152, batch_first=True)\n",
              "        )\n",
              "        (1): WeightDropout(\n",
              "          (module): LSTM(1152, 1152, batch_first=True)\n",
              "        )\n",
              "        (2): WeightDropout(\n",
              "          (module): LSTM(1152, 400, batch_first=True)\n",
              "        )\n",
              "      )\n",
              "      (input_dp): RNNDropout()\n",
              "      (hidden_dps): ModuleList(\n",
              "        (0): RNNDropout()\n",
              "        (1): RNNDropout()\n",
              "        (2): RNNDropout()\n",
              "      )\n",
              "    )\n",
              "  )\n",
              "  (1): PoolingLinearClassifier(\n",
              "    (layers): Sequential(\n",
              "      (0): BatchNorm1d(1200, eps=1e-05, momentum=0.1, affine=True, track_running_stats=True)\n",
              "      (1): Dropout(p=0.2, inplace=False)\n",
              "      (2): Linear(in_features=1200, out_features=50, bias=True)\n",
              "      (3): ReLU(inplace=True)\n",
              "      (4): BatchNorm1d(50, eps=1e-05, momentum=0.1, affine=True, track_running_stats=True)\n",
              "      (5): Dropout(p=0.1, inplace=False)\n",
              "      (6): Linear(in_features=50, out_features=2, bias=True)\n",
              "    )\n",
              "  )\n",
              "), opt_func=functools.partial(<class 'torch.optim.adam.Adam'>, betas=(0.9, 0.99)), loss_func=FlattenedLoss of CrossEntropyLoss(), metrics=[<function accuracy at 0x7ff6b4690d90>], true_wd=True, bn_wd=True, wd=0.01, train_bn=True, path=PosixPath('/root/.fastai/data/imdb_sample'), model_dir='models', callback_fns=[functools.partial(<class 'fastai.basic_train.Recorder'>, add_time=True, silent=False)], callbacks=[...], layer_groups=[Sequential(\n",
              "  (0): Embedding(8840, 400, padding_idx=1)\n",
              "  (1): EmbeddingDropout(\n",
              "    (emb): Embedding(8840, 400, padding_idx=1)\n",
              "  )\n",
              "), Sequential(\n",
              "  (0): WeightDropout(\n",
              "    (module): LSTM(400, 1152, batch_first=True)\n",
              "  )\n",
              "  (1): RNNDropout()\n",
              "), Sequential(\n",
              "  (0): WeightDropout(\n",
              "    (module): LSTM(1152, 1152, batch_first=True)\n",
              "  )\n",
              "  (1): RNNDropout()\n",
              "), Sequential(\n",
              "  (0): WeightDropout(\n",
              "    (module): LSTM(1152, 400, batch_first=True)\n",
              "  )\n",
              "  (1): RNNDropout()\n",
              "), Sequential(\n",
              "  (0): PoolingLinearClassifier(\n",
              "    (layers): Sequential(\n",
              "      (0): BatchNorm1d(1200, eps=1e-05, momentum=0.1, affine=True, track_running_stats=True)\n",
              "      (1): Dropout(p=0.2, inplace=False)\n",
              "      (2): Linear(in_features=1200, out_features=50, bias=True)\n",
              "      (3): ReLU(inplace=True)\n",
              "      (4): BatchNorm1d(50, eps=1e-05, momentum=0.1, affine=True, track_running_stats=True)\n",
              "      (5): Dropout(p=0.1, inplace=False)\n",
              "      (6): Linear(in_features=50, out_features=2, bias=True)\n",
              "    )\n",
              "  )\n",
              ")], add_time=True, silent=False)\n",
              "alpha: 2.0\n",
              "beta: 1.0], layer_groups=[Sequential(\n",
              "  (0): Embedding(8840, 400, padding_idx=1)\n",
              "  (1): EmbeddingDropout(\n",
              "    (emb): Embedding(8840, 400, padding_idx=1)\n",
              "  )\n",
              "), Sequential(\n",
              "  (0): WeightDropout(\n",
              "    (module): LSTM(400, 1152, batch_first=True)\n",
              "  )\n",
              "  (1): RNNDropout()\n",
              "), Sequential(\n",
              "  (0): WeightDropout(\n",
              "    (module): LSTM(1152, 1152, batch_first=True)\n",
              "  )\n",
              "  (1): RNNDropout()\n",
              "), Sequential(\n",
              "  (0): WeightDropout(\n",
              "    (module): LSTM(1152, 400, batch_first=True)\n",
              "  )\n",
              "  (1): RNNDropout()\n",
              "), Sequential(\n",
              "  (0): PoolingLinearClassifier(\n",
              "    (layers): Sequential(\n",
              "      (0): BatchNorm1d(1200, eps=1e-05, momentum=0.1, affine=True, track_running_stats=True)\n",
              "      (1): Dropout(p=0.2, inplace=False)\n",
              "      (2): Linear(in_features=1200, out_features=50, bias=True)\n",
              "      (3): ReLU(inplace=True)\n",
              "      (4): BatchNorm1d(50, eps=1e-05, momentum=0.1, affine=True, track_running_stats=True)\n",
              "      (5): Dropout(p=0.1, inplace=False)\n",
              "      (6): Linear(in_features=50, out_features=2, bias=True)\n",
              "    )\n",
              "  )\n",
              ")], add_time=True, silent=False)"
            ]
          },
          "metadata": {
            "tags": []
          },
          "execution_count": 22
        }
      ]
    },
    {
      "cell_type": "code",
      "metadata": {
        "id": "mnLQJ6Df-qoZ",
        "colab_type": "code",
        "colab": {
          "base_uri": "https://localhost:8080/",
          "height": 402
        },
        "outputId": "9c7bfcb9-f386-4066-88f4-51cd80d99e76"
      },
      "source": [
        "learn.lr_find()\n",
        "learn.recorder.plot(skip_end=15)"
      ],
      "execution_count": null,
      "outputs": [
        {
          "output_type": "display_data",
          "data": {
            "text/html": [
              "\n",
              "    <div>\n",
              "        <style>\n",
              "            /* Turns off some styling */\n",
              "            progress {\n",
              "                /* gets rid of default border in Firefox and Opera. */\n",
              "                border: none;\n",
              "                /* Needs to be in here for Safari polyfill so background images work as expected. */\n",
              "                background-size: auto;\n",
              "            }\n",
              "            .progress-bar-interrupted, .progress-bar-interrupted::-webkit-progress-bar {\n",
              "                background: #F44336;\n",
              "            }\n",
              "        </style>\n",
              "      <progress value='1' class='' max='3' style='width:300px; height:20px; vertical-align: middle;'></progress>\n",
              "      33.33% [1/3 00:09<00:18]\n",
              "    </div>\n",
              "    \n",
              "<table border=\"1\" class=\"dataframe\">\n",
              "  <thead>\n",
              "    <tr style=\"text-align: left;\">\n",
              "      <th>epoch</th>\n",
              "      <th>train_loss</th>\n",
              "      <th>valid_loss</th>\n",
              "      <th>accuracy</th>\n",
              "      <th>time</th>\n",
              "    </tr>\n",
              "  </thead>\n",
              "  <tbody>\n",
              "    <tr>\n",
              "      <td>0</td>\n",
              "      <td>0.814116</td>\n",
              "      <td>#na#</td>\n",
              "      <td>00:09</td>\n",
              "    </tr>\n",
              "  </tbody>\n",
              "</table><p>\n",
              "\n",
              "    <div>\n",
              "        <style>\n",
              "            /* Turns off some styling */\n",
              "            progress {\n",
              "                /* gets rid of default border in Firefox and Opera. */\n",
              "                border: none;\n",
              "                /* Needs to be in here for Safari polyfill so background images work as expected. */\n",
              "                background-size: auto;\n",
              "            }\n",
              "            .progress-bar-interrupted, .progress-bar-interrupted::-webkit-progress-bar {\n",
              "                background: #F44336;\n",
              "            }\n",
              "        </style>\n",
              "      <progress value='44' class='' max='49' style='width:300px; height:20px; vertical-align: middle;'></progress>\n",
              "      89.80% [44/49 00:07<00:00 2.1597]\n",
              "    </div>\n",
              "    "
            ],
            "text/plain": [
              "<IPython.core.display.HTML object>"
            ]
          },
          "metadata": {
            "tags": []
          }
        },
        {
          "output_type": "stream",
          "text": [
            "LR Finder is complete, type {learner_name}.recorder.plot() to see the graph.\n"
          ],
          "name": "stdout"
        },
        {
          "output_type": "display_data",
          "data": {
            "image/png": "[encoded data removed]",
            "text/plain": [
              "<Figure size 432x288 with 1 Axes>"
            ]
          },
          "metadata": {
            "tags": [],
            "needs_background": "light"
          }
        }
      ]
    },
    {
      "cell_type": "markdown",
      "metadata": {
        "colab_type": "text",
        "id": "hNbnH0FjFx_I"
      },
      "source": [
        ""
      ]
    },
    {
      "cell_type": "code",
      "metadata": {
        "colab_type": "code",
        "id": "FIh-ak8HvCYb",
        "colab": {
          "base_uri": "https://localhost:8080/",
          "height": 77
        },
        "outputId": "8f25b0a5-7022-4f70-8543-66e305c1dd31"
      },
      "source": [
        "learn.fit_one_cycle(1, 2e-2)"
      ],
      "execution_count": null,
      "outputs": [
        {
          "output_type": "display_data",
          "data": {
            "text/html": [
              "<table border=\"1\" class=\"dataframe\">\n",
              "  <thead>\n",
              "    <tr style=\"text-align: left;\">\n",
              "      <th>epoch</th>\n",
              "      <th>train_loss</th>\n",
              "      <th>valid_loss</th>\n",
              "      <th>accuracy</th>\n",
              "      <th>time</th>\n",
              "    </tr>\n",
              "  </thead>\n",
              "  <tbody>\n",
              "    <tr>\n",
              "      <td>0</td>\n",
              "      <td>0.686587</td>\n",
              "      <td>0.672039</td>\n",
              "      <td>0.597015</td>\n",
              "      <td>00:11</td>\n",
              "    </tr>\n",
              "  </tbody>\n",
              "</table>"
            ],
            "text/plain": [
              "<IPython.core.display.HTML object>"
            ]
          },
          "metadata": {
            "tags": []
          }
        }
      ]
    },
    {
      "cell_type": "code",
      "metadata": {
        "colab_type": "code",
        "id": "Vy3Ay2y8yDB-",
        "colab": {
          "base_uri": "https://localhost:8080/",
          "height": 77
        },
        "outputId": "37deb53d-33df-49dc-87f5-8444f9257358"
      },
      "source": [
        "learn.freeze_to(-2)\n",
        "learn.fit_one_cycle(1, slice(1e-2/(2.6**4),1e-2))"
      ],
      "execution_count": 28,
      "outputs": [
        {
          "output_type": "display_data",
          "data": {
            "text/html": [
              "<table border=\"1\" class=\"dataframe\">\n",
              "  <thead>\n",
              "    <tr style=\"text-align: left;\">\n",
              "      <th>epoch</th>\n",
              "      <th>train_loss</th>\n",
              "      <th>valid_loss</th>\n",
              "      <th>accuracy</th>\n",
              "      <th>time</th>\n",
              "    </tr>\n",
              "  </thead>\n",
              "  <tbody>\n",
              "    <tr>\n",
              "      <td>0</td>\n",
              "      <td>0.451733</td>\n",
              "      <td>0.527750</td>\n",
              "      <td>0.721393</td>\n",
              "      <td>00:11</td>\n",
              "    </tr>\n",
              "  </tbody>\n",
              "</table>"
            ],
            "text/plain": [
              "<IPython.core.display.HTML object>"
            ]
          },
          "metadata": {
            "tags": []
          }
        }
      ]
    },
    {
      "cell_type": "code",
      "metadata": {
        "id": "WLOxsMUvfGwk",
        "colab_type": "code",
        "colab": {
          "base_uri": "https://localhost:8080/",
          "height": 77
        },
        "outputId": "af54e55c-f7be-455b-c108-6ba9fb0af096"
      },
      "source": [
        "learn.freeze_to(-3)\n",
        "learn.fit_one_cycle(1, slice(5e-3/(2.6**4),5e-3))"
      ],
      "execution_count": 30,
      "outputs": [
        {
          "output_type": "display_data",
          "data": {
            "text/html": [
              "<table border=\"1\" class=\"dataframe\">\n",
              "  <thead>\n",
              "    <tr style=\"text-align: left;\">\n",
              "      <th>epoch</th>\n",
              "      <th>train_loss</th>\n",
              "      <th>valid_loss</th>\n",
              "      <th>accuracy</th>\n",
              "      <th>time</th>\n",
              "    </tr>\n",
              "  </thead>\n",
              "  <tbody>\n",
              "    <tr>\n",
              "      <td>0</td>\n",
              "      <td>0.408451</td>\n",
              "      <td>0.641548</td>\n",
              "      <td>0.681592</td>\n",
              "      <td>00:16</td>\n",
              "    </tr>\n",
              "  </tbody>\n",
              "</table>"
            ],
            "text/plain": [
              "<IPython.core.display.HTML object>"
            ]
          },
          "metadata": {
            "tags": []
          }
        }
      ]
    },
    {
      "cell_type": "markdown",
      "metadata": {
        "colab_type": "text",
        "id": "h6jua1rO8_2t"
      },
      "source": [
        "## Testing"
      ]
    },
    {
      "cell_type": "markdown",
      "metadata": {
        "id": "ga7jZraYhlFV",
        "colab_type": "text"
      },
      "source": [
        "The test contains a function called `predictToWords`. \n",
        "This function gets a sentence as input and returns `Positive` for a sentence that seems happy or `Negetive` for a sentence whose writer is mad about something. "
      ]
    },
    {
      "cell_type": "code",
      "metadata": {
        "id": "2joKzzdyyEWA",
        "colab_type": "code",
        "colab": {}
      },
      "source": [
        "def predictToWords(sentence) :\n",
        "  if learn.predict(sentence)[0]==tensor(0):\n",
        "    print(\"Negetive\")\n",
        "  elif learn.predict(sentence)[0]==tensor(1):\n",
        "    print(\"Positive\")\n"
      ],
      "execution_count": 31,
      "outputs": []
    },
    {
      "cell_type": "code",
      "metadata": {
        "id": "SNzyu-7ivqfj",
        "colab_type": "code",
        "colab": {
          "base_uri": "https://localhost:8080/",
          "height": 34
        },
        "outputId": "6394880c-6e4c-4986-a381-9211032f7d37"
      },
      "source": [
        "predictToWords(\"I like it!\")"
      ],
      "execution_count": 42,
      "outputs": [
        {
          "output_type": "stream",
          "text": [
            "Positive\n"
          ],
          "name": "stdout"
        }
      ]
    },
    {
      "cell_type": "markdown",
      "metadata": {
        "id": "DCUZTqL64atX",
        "colab_type": "text"
      },
      "source": [
        "##Fine Tuning\n",
        "\n",
        "---\n",
        "\n"
      ]
    },
    {
      "cell_type": "markdown",
      "metadata": {
        "id": "ZMG20bAKjn48",
        "colab_type": "text"
      },
      "source": [
        "We imported our NLP dataset, trained a model on that dataset to find out what's the feeling behind a text, have tested our model and everything was working. Isn't it awesome?\n",
        "\n",
        "Not yet! Now we need to improve our program to work more efficient.\n",
        "To this point, our model has been trained with the last layer of the dataset.Which means more training cases will appear when we go through other layers, so the model accuracy will be improved."
      ]
    },
    {
      "cell_type": "code",
      "metadata": {
        "id": "r8vA3nrIfpE4",
        "colab_type": "code",
        "colab": {
          "base_uri": "https://localhost:8080/",
          "height": 343
        },
        "outputId": "61fae100-7feb-4116-fca1-512bc9235948"
      },
      "source": [
        "learn.unfreeze()\n",
        "learn.fit_one_cycle(10, slice(1e-3/(2.6**4),1e-3))"
      ],
      "execution_count": 35,
      "outputs": [
        {
          "output_type": "display_data",
          "data": {
            "text/html": [
              "<table border=\"1\" class=\"dataframe\">\n",
              "  <thead>\n",
              "    <tr style=\"text-align: left;\">\n",
              "      <th>epoch</th>\n",
              "      <th>train_loss</th>\n",
              "      <th>valid_loss</th>\n",
              "      <th>accuracy</th>\n",
              "      <th>time</th>\n",
              "    </tr>\n",
              "  </thead>\n",
              "  <tbody>\n",
              "    <tr>\n",
              "      <td>0</td>\n",
              "      <td>0.234554</td>\n",
              "      <td>0.486415</td>\n",
              "      <td>0.791045</td>\n",
              "      <td>00:21</td>\n",
              "    </tr>\n",
              "    <tr>\n",
              "      <td>1</td>\n",
              "      <td>0.216888</td>\n",
              "      <td>0.481754</td>\n",
              "      <td>0.805970</td>\n",
              "      <td>00:25</td>\n",
              "    </tr>\n",
              "    <tr>\n",
              "      <td>2</td>\n",
              "      <td>0.197235</td>\n",
              "      <td>0.512849</td>\n",
              "      <td>0.786070</td>\n",
              "      <td>00:22</td>\n",
              "    </tr>\n",
              "    <tr>\n",
              "      <td>3</td>\n",
              "      <td>0.175629</td>\n",
              "      <td>0.502454</td>\n",
              "      <td>0.820895</td>\n",
              "      <td>00:22</td>\n",
              "    </tr>\n",
              "    <tr>\n",
              "      <td>4</td>\n",
              "      <td>0.180313</td>\n",
              "      <td>0.516187</td>\n",
              "      <td>0.805970</td>\n",
              "      <td>00:24</td>\n",
              "    </tr>\n",
              "    <tr>\n",
              "      <td>5</td>\n",
              "      <td>0.149978</td>\n",
              "      <td>0.507213</td>\n",
              "      <td>0.820895</td>\n",
              "      <td>00:21</td>\n",
              "    </tr>\n",
              "    <tr>\n",
              "      <td>6</td>\n",
              "      <td>0.129658</td>\n",
              "      <td>0.503919</td>\n",
              "      <td>0.820895</td>\n",
              "      <td>00:21</td>\n",
              "    </tr>\n",
              "    <tr>\n",
              "      <td>7</td>\n",
              "      <td>0.114933</td>\n",
              "      <td>0.483961</td>\n",
              "      <td>0.845771</td>\n",
              "      <td>00:21</td>\n",
              "    </tr>\n",
              "    <tr>\n",
              "      <td>8</td>\n",
              "      <td>0.101344</td>\n",
              "      <td>0.499828</td>\n",
              "      <td>0.840796</td>\n",
              "      <td>00:20</td>\n",
              "    </tr>\n",
              "    <tr>\n",
              "      <td>9</td>\n",
              "      <td>0.100795</td>\n",
              "      <td>0.519548</td>\n",
              "      <td>0.830846</td>\n",
              "      <td>00:23</td>\n",
              "    </tr>\n",
              "  </tbody>\n",
              "</table>"
            ],
            "text/plain": [
              "<IPython.core.display.HTML object>"
            ]
          },
          "metadata": {
            "tags": []
          }
        }
      ]
    },
    {
      "cell_type": "code",
      "metadata": {
        "id": "SE77Lo9MbFL1",
        "colab_type": "code",
        "colab": {
          "base_uri": "https://localhost:8080/",
          "height": 402
        },
        "outputId": "abc76f94-29cd-45a8-bf3f-b95d4b804896"
      },
      "source": [
        "learn.lr_find()\n",
        "learn.recorder.plot(skip_end=15)"
      ],
      "execution_count": 36,
      "outputs": [
        {
          "output_type": "display_data",
          "data": {
            "text/html": [
              "\n",
              "    <div>\n",
              "        <style>\n",
              "            /* Turns off some styling */\n",
              "            progress {\n",
              "                /* gets rid of default border in Firefox and Opera. */\n",
              "                border: none;\n",
              "                /* Needs to be in here for Safari polyfill so background images work as expected. */\n",
              "                background-size: auto;\n",
              "            }\n",
              "            .progress-bar-interrupted, .progress-bar-interrupted::-webkit-progress-bar {\n",
              "                background: #F44336;\n",
              "            }\n",
              "        </style>\n",
              "      <progress value='1' class='' max='3' style='width:300px; height:20px; vertical-align: middle;'></progress>\n",
              "      33.33% [1/3 00:19<00:39]\n",
              "    </div>\n",
              "    \n",
              "<table border=\"1\" class=\"dataframe\">\n",
              "  <thead>\n",
              "    <tr style=\"text-align: left;\">\n",
              "      <th>epoch</th>\n",
              "      <th>train_loss</th>\n",
              "      <th>valid_loss</th>\n",
              "      <th>accuracy</th>\n",
              "      <th>time</th>\n",
              "    </tr>\n",
              "  </thead>\n",
              "  <tbody>\n",
              "    <tr>\n",
              "      <td>0</td>\n",
              "      <td>0.100087</td>\n",
              "      <td>#na#</td>\n",
              "      <td>00:19</td>\n",
              "    </tr>\n",
              "  </tbody>\n",
              "</table><p>\n",
              "\n",
              "    <div>\n",
              "        <style>\n",
              "            /* Turns off some styling */\n",
              "            progress {\n",
              "                /* gets rid of default border in Firefox and Opera. */\n",
              "                border: none;\n",
              "                /* Needs to be in here for Safari polyfill so background images work as expected. */\n",
              "                background-size: auto;\n",
              "            }\n",
              "            .progress-bar-interrupted, .progress-bar-interrupted::-webkit-progress-bar {\n",
              "                background: #F44336;\n",
              "            }\n",
              "        </style>\n",
              "      <progress value='21' class='' max='49' style='width:300px; height:20px; vertical-align: middle;'></progress>\n",
              "      42.86% [21/49 00:08<00:11 0.1827]\n",
              "    </div>\n",
              "    "
            ],
            "text/plain": [
              "<IPython.core.display.HTML object>"
            ]
          },
          "metadata": {
            "tags": []
          }
        },
        {
          "output_type": "stream",
          "text": [
            "LR Finder is complete, type {learner_name}.recorder.plot() to see the graph.\n"
          ],
          "name": "stdout"
        },
        {
          "output_type": "display_data",
          "data": {
            "image/png": "[encoded data removed]",
            "text/plain": [
              "<Figure size 432x288 with 1 Axes>"
            ]
          },
          "metadata": {
            "tags": [],
            "needs_background": "light"
          }
        }
      ]
    },
    {
      "cell_type": "code",
      "metadata": {
        "id": "ncmJ00kw7BFH",
        "colab_type": "code",
        "colab": {}
      },
      "source": [
        "learn.save('fine_tuned')"
      ],
      "execution_count": 37,
      "outputs": []
    },
    {
      "cell_type": "code",
      "metadata": {
        "id": "2DXA7ZZqcixe",
        "colab_type": "code",
        "colab": {
          "base_uri": "https://localhost:8080/",
          "height": 34
        },
        "outputId": "4b25aef5-ec44-4dc6-f1d0-86746e6f39dd"
      },
      "source": [
        "predictToWords(\"The worst I ever seen!\")"
      ],
      "execution_count": 43,
      "outputs": [
        {
          "output_type": "stream",
          "text": [
            "Negetive\n"
          ],
          "name": "stdout"
        }
      ]
    },
    {
      "cell_type": "code",
      "metadata": {
        "id": "mmhei36Tc5OF",
        "colab_type": "code",
        "colab": {
          "base_uri": "https://localhost:8080/",
          "height": 34
        },
        "outputId": "a6eda95a-04e0-4d5c-b09e-f9b29d7f910a"
      },
      "source": [
        "predictToWords(\"It deserve every moments!\")"
      ],
      "execution_count": 44,
      "outputs": [
        {
          "output_type": "stream",
          "text": [
            "Positive\n"
          ],
          "name": "stdout"
        }
      ]
    },
    {
      "cell_type": "markdown",
      "metadata": {
        "colab_type": "text",
        "id": "URivN3ZlRXLw"
      },
      "source": [
        "# Your turn!"
      ]
    },
    {
      "cell_type": "markdown",
      "metadata": {
        "id": "AVpYHF6VTl1B",
        "colab_type": "text"
      },
      "source": [
        "## Setup"
      ]
    },
    {
      "cell_type": "markdown",
      "metadata": {
        "id": "u0PEcDdySClM",
        "colab_type": "text"
      },
      "source": [
        "we want to use amazon reviews data set and guess ratings by the reviews"
      ]
    },
    {
      "cell_type": "code",
      "metadata": {
        "id": "Jr5ghweSS4Js",
        "colab_type": "code",
        "colab": {}
      },
      "source": [
        "path = untar_data(URLs.AMAZON_REVIEWS)\n",
        "data = pd.read_csv(path/'test.csv', header=None)\n",
        "\n",
        "data.columns = ['rate', 'Abstract', 'review']"
      ],
      "execution_count": null,
      "outputs": []
    },
    {
      "cell_type": "markdown",
      "metadata": {
        "id": "SgyQNEYPSeaz",
        "colab_type": "text"
      },
      "source": [
        "---\n",
        "\n",
        "⭐ could you say why we use `data.column` ?\n",
        "comment that line and see what happened to data set with using `.head()` \n",
        "\n",
        "---"
      ]
    },
    {
      "cell_type": "markdown",
      "metadata": {
        "id": "OR-TaBrHTqWS",
        "colab_type": "text"
      },
      "source": [
        "## Data"
      ]
    },
    {
      "cell_type": "code",
      "metadata": {
        "id": "ThiBJew4Sr_e",
        "colab_type": "code",
        "colab": {}
      },
      "source": [
        "## Print the info() of the data \n",
        "### YOUR CODE HERE\n",
        "\n"
      ],
      "execution_count": null,
      "outputs": []
    },
    {
      "cell_type": "code",
      "metadata": {
        "id": "_PvcFVmOMWxa",
        "colab_type": "code",
        "colab": {}
      },
      "source": [
        "## Print the .head() of the data to have a quick look\n",
        "### YOUR CODE HERE\n",
        "\n"
      ],
      "execution_count": null,
      "outputs": []
    },
    {
      "cell_type": "code",
      "metadata": {
        "id": "CYqJLfxURCCN",
        "colab_type": "code",
        "colab": {}
      },
      "source": [
        "## show the last comment\n",
        "### YOUR CODE HERE\n",
        "\n"
      ],
      "execution_count": null,
      "outputs": []
    },
    {
      "cell_type": "code",
      "metadata": {
        "id": "3nAAwCaaziBE",
        "colab_type": "code",
        "colab": {}
      },
      "source": [
        "##show data group by rate column\n",
        "### YOUR CODE HERE\n"
      ],
      "execution_count": null,
      "outputs": []
    },
    {
      "cell_type": "code",
      "metadata": {
        "id": "N0ugjc_xWOu6",
        "colab_type": "code",
        "colab": {}
      },
      "source": [
        "##show data group by Abstract column\n",
        "### YOUR CODE HERE"
      ],
      "execution_count": null,
      "outputs": []
    },
    {
      "cell_type": "markdown",
      "metadata": {
        "id": "B8ceKQx9T97z",
        "colab_type": "text"
      },
      "source": [
        "## Model"
      ]
    },
    {
      "cell_type": "markdown",
      "metadata": {
        "id": "jDu935ui0IBm",
        "colab_type": "text"
      },
      "source": [
        "Now we want to guess the abstract"
      ]
    },
    {
      "cell_type": "code",
      "metadata": {
        "id": "jJgoANIXUDPE",
        "colab_type": "code",
        "colab": {}
      },
      "source": [
        "# Language model data\n",
        "data_lm = TextLMDataBunch.from_csv(path,csvfile)\n",
        "# Classifier model data\n",
        "data_clas = TextClasDataBunch.from_csv(path, csvfile , vocab , Batchsize #consider 32)"
      ],
      "execution_count": null,
      "outputs": []
    },
    {
      "cell_type": "code",
      "metadata": {
        "id": "rWQKMyt3T_y9",
        "colab_type": "code",
        "colab": {}
      },
      "source": [
        "# save your lm data and clas data\n",
        "data_lm.save('path of .pkl file')\n",
        "data_clas.save('path of .pkl file')\n",
        "#reload the file again with batch size 16\n",
        "data_lm = load_data(path, your_data)\n"
      ],
      "execution_count": null,
      "outputs": []
    },
    {
      "cell_type": "code",
      "metadata": {
        "colab_type": "code",
        "id": "Qd-EUOuYliu9",
        "colab": {}
      },
      "source": [
        "#Fine-tuning a language model and weight 0.3\n",
        "learn = language_model_learner(data_lm, AWD_LSTM, drop_mult)\n",
        "\n",
        "# unfreeze it and fit one cycle\n",
        "\n",
        "learn.fit_one_cycle(1, 1e-2)\n",
        "\n",
        "\n",
        "#make a prediction with a movie\n",
        "learn.predict(sentence)"
      ],
      "execution_count": null,
      "outputs": []
    },
    {
      "cell_type": "markdown",
      "metadata": {
        "id": "Jsa4HBB5XAve",
        "colab_type": "text"
      },
      "source": [
        "⭐ better to write a function to inpret the prediction "
      ]
    },
    {
      "cell_type": "markdown",
      "metadata": {
        "id": "KkjEYrEDWwYi",
        "colab_type": "text"
      },
      "source": [
        ""
      ]
    },
    {
      "cell_type": "markdown",
      "metadata": {
        "colab_type": "text",
        "id": "J71ttgg2aicH"
      },
      "source": [
        "# Summary"
      ]
    }
  ]
}